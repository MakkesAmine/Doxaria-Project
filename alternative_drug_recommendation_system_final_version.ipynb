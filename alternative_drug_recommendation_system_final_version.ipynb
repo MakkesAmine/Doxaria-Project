{
 "cells": [
  {
   "cell_type": "markdown",
   "id": "41a4b664-496d-411f-b73e-3a0558129895",
   "metadata": {
    "id": "41a4b664-496d-411f-b73e-3a0558129895"
   },
   "source": [
    "# 💊 BO2 - Identify Alternative Medications Based on Active Ingredients (INN)\n",
    "\n",
    "## 🗺️ Roadmap\n",
    "\n",
    "### 1️⃣ - Business Understanding\n",
    "\n",
    "**Objective:** Recommend generic, biosimilar, or therapeutic alternative medications for a given drug, based on the International Nonproprietary Name (INN).\n",
    "\n",
    "#### Key Questions:\n",
    "- What are the primary use cases for patients, pharmacists, and doctors?\n",
    "- What are the key features affecting alternative medication recommendations?\n",
    "- Why are factors like INN, Therapeutic Class, and Drug Type important?\n",
    "\n",
    "---\n",
    "\n",
    "### 2️⃣ - Data Understanding\n",
    "\n",
    "**Data Sources:** Medication data from `liste_amm.xls`.\n",
    "\n",
    "#### Key Attributes:\n",
    "- **INN**: Active ingredient.\n",
    "- **Dosage**: Dosage of the drug.\n",
    "- **Form**: Galenic form (tablet, capsule, etc.).\n",
    "- **Therapeutic Class**: Class and subclass of the drug.\n",
    "- **Laboratory**: Pharmaceutical laboratory.\n",
    "- **Drug Type (G/P/B)**: Generic, princeps, biosimilar.\n",
    "- **VEIC**: Classification (Vital, Essential, Non-Essential).\n",
    "\n",
    "---\n",
    "\n",
    "### 3️⃣ - Data Preparation\n",
    "\n",
    "#### **Data Cleaning:**\n",
    "- Remove duplicates.\n",
    "- Handle missing values.\n",
    "- Standardize formats (uppercase, accents, etc.).\n",
    "\n",
    "#### **Feature Engineering:**\n",
    "- Create a **Characteristics** column by combining `INN`, `Dosage`, `Form`, and `Therapeutic Class`.\n",
    "- Extract numerical dosage and normalize it.\n",
    "- Encode categorical variables (`Form`, `Class`, `G/P/B`, `VEIC`) using One-Hot Encoding.\n",
    "\n",
    "#### **Vectorization:**\n",
    "- Use **TF-IDF** to vectorize the `Characteristics` column.\n",
    "\n",
    "---\n",
    "\n",
    "### 4️⃣ - Modeling\n",
    "\n",
    "#### **Content-Based Filtering:**\n",
    "- Use **cosine similarity** to recommend drugs with similar characteristics.\n",
    "- Apply a **deep learning model**.\n",
    "\n",
    "#### **Direct Mapping of Alternatives:**\n",
    "- Create a direct mapping between drugs and their alternatives based on **INN**.\n",
    "\n",
    "---\n",
    "\n",
    "### 5️⃣ - Evaluation\n",
    "\n",
    "#### **Metrics:**\n",
    "- **Precision @K**: Proportion of relevant recommendations among the top K.\n",
    "- **Recall @K**: Proportion of correct alternatives captured in the top K recommendations.\n",
    "- **MRR (Mean Reciprocal Rank)**: Measures the quality of recommendation ranking.\n",
    "\n",
    "---\n",
    "\n",
    "### 6️⃣ - Deployment\n",
    "\n",
    "#### **API Development:**\n",
    "- Develop an API using **FastAPI** .\n",
    "- **Input**: Drug name or INN.\n",
    "- **Output**: List of alternatives with details.\n",
    "\n",
    "#### **User Interface:**\n",
    "- Integrate the API into a **React frontend** for easy use by pharmacists and doctors.\n",
    "\n",
    "#### **Cloud Deployment:**\n",
    "- Deploy the API on a cloud platform (**AWS, GCP, Azure, Vercel**).\n",
    "\n",
    "---\n"
   ]
  },
  {
   "cell_type": "markdown",
   "id": "bd8c636b-e75a-473a-8fb9-e3b9eb50c979",
   "metadata": {
    "id": "bd8c636b-e75a-473a-8fb9-e3b9eb50c979"
   },
   "source": [
    "## Import libraries"
   ]
  },
  {
   "cell_type": "code",
   "execution_count": 4,
   "id": "e4e38c37-5b3a-48d3-a435-4b42e1d590fd",
   "metadata": {
    "colab": {
     "base_uri": "https://localhost:8080/",
     "height": 17
    },
    "id": "e4e38c37-5b3a-48d3-a435-4b42e1d590fd",
    "outputId": "8f635c2a-1d6f-4e16-d885-fea57cd5bfed"
   },
   "outputs": [
    {
     "data": {
      "text/html": [
       "        <script type=\"text/javascript\">\n",
       "        window.PlotlyConfig = {MathJaxConfig: 'local'};\n",
       "        if (window.MathJax && window.MathJax.Hub && window.MathJax.Hub.Config) {window.MathJax.Hub.Config({SVG: {font: \"STIX-Web\"}});}\n",
       "        if (typeof require !== 'undefined') {\n",
       "        require.undef(\"plotly\");\n",
       "        requirejs.config({\n",
       "            paths: {\n",
       "                'plotly': ['https://cdn.plot.ly/plotly-2.35.2.min']\n",
       "            }\n",
       "        });\n",
       "        require(['plotly'], function(Plotly) {\n",
       "            window._Plotly = Plotly;\n",
       "        });\n",
       "        }\n",
       "        </script>\n",
       "        "
      ]
     },
     "metadata": {},
     "output_type": "display_data"
    }
   ],
   "source": [
    "#Importing necessary Libraries\n",
    "import numpy as np\n",
    "import pandas as pd\n",
    "from math import *\n",
    "import matplotlib.pyplot as plt\n",
    "from PIL import Image\n",
    "import seaborn as sns\n",
    "import itertools\n",
    "import io\n",
    "import plotly.offline as py\n",
    "py.init_notebook_mode(connected=True)\n",
    "import plotly.graph_objs as go\n",
    "from plotly.subplots import make_subplots\n",
    "import plotly.figure_factory as ff\n",
    "import warnings\n",
    "warnings.filterwarnings(\"ignore\")\n",
    "%matplotlib inline\n",
    "import pickle\n",
    "import scipy.sparse as sp\n",
    "from sklearn.feature_extraction.text import TfidfVectorizer\n",
    "from sklearn.preprocessing import MinMaxScaler, StandardScaler, LabelEncoder\n",
    "from scipy.sparse import hstack"
   ]
  },
  {
   "cell_type": "code",
   "execution_count": 5,
   "id": "4c3070fe-d499-4849-82dc-93ac2836be28",
   "metadata": {
    "colab": {
     "base_uri": "https://localhost:8080/"
    },
    "id": "4c3070fe-d499-4849-82dc-93ac2836be28",
    "outputId": "e046cd8b-8120-41c2-a523-f5ebf89a14af"
   },
   "outputs": [
    {
     "name": "stdout",
     "output_type": "stream",
     "text": [
      "Defaulting to user installation because normal site-packages is not writeable\n",
      "Requirement already satisfied: tensorflow in c:\\users\\dell\\appdata\\roaming\\python\\python312\\site-packages (2.18.0)\n",
      "Requirement already satisfied: tensorflow-intel==2.18.0 in c:\\users\\dell\\appdata\\roaming\\python\\python312\\site-packages (from tensorflow) (2.18.0)\n",
      "Requirement already satisfied: absl-py>=1.0.0 in c:\\users\\dell\\appdata\\roaming\\python\\python312\\site-packages (from tensorflow-intel==2.18.0->tensorflow) (2.1.0)\n",
      "Requirement already satisfied: astunparse>=1.6.0 in c:\\users\\dell\\appdata\\roaming\\python\\python312\\site-packages (from tensorflow-intel==2.18.0->tensorflow) (1.6.3)\n",
      "Requirement already satisfied: flatbuffers>=24.3.25 in c:\\users\\dell\\appdata\\roaming\\python\\python312\\site-packages (from tensorflow-intel==2.18.0->tensorflow) (24.3.25)\n",
      "Requirement already satisfied: gast!=0.5.0,!=0.5.1,!=0.5.2,>=0.2.1 in c:\\users\\dell\\appdata\\roaming\\python\\python312\\site-packages (from tensorflow-intel==2.18.0->tensorflow) (0.6.0)\n",
      "Requirement already satisfied: google-pasta>=0.1.1 in c:\\users\\dell\\appdata\\roaming\\python\\python312\\site-packages (from tensorflow-intel==2.18.0->tensorflow) (0.2.0)\n",
      "Requirement already satisfied: libclang>=13.0.0 in c:\\users\\dell\\appdata\\roaming\\python\\python312\\site-packages (from tensorflow-intel==2.18.0->tensorflow) (18.1.1)\n",
      "Requirement already satisfied: opt-einsum>=2.3.2 in c:\\users\\dell\\appdata\\roaming\\python\\python312\\site-packages (from tensorflow-intel==2.18.0->tensorflow) (3.3.0)\n",
      "Requirement already satisfied: packaging in c:\\users\\dell\\appdata\\roaming\\python\\python312\\site-packages (from tensorflow-intel==2.18.0->tensorflow) (24.2)\n",
      "Collecting protobuf!=4.21.0,!=4.21.1,!=4.21.2,!=4.21.3,!=4.21.4,!=4.21.5,<6.0.0dev,>=3.20.3 (from tensorflow-intel==2.18.0->tensorflow)\n",
      "  Downloading protobuf-5.29.4-cp310-abi3-win_amd64.whl.metadata (592 bytes)\n",
      "Requirement already satisfied: requests<3,>=2.21.0 in c:\\users\\dell\\appdata\\roaming\\python\\python312\\site-packages (from tensorflow-intel==2.18.0->tensorflow) (2.32.3)\n",
      "Requirement already satisfied: setuptools in c:\\users\\dell\\appdata\\roaming\\python\\python312\\site-packages (from tensorflow-intel==2.18.0->tensorflow) (75.8.2)\n",
      "Requirement already satisfied: six>=1.12.0 in c:\\users\\dell\\appdata\\roaming\\python\\python312\\site-packages (from tensorflow-intel==2.18.0->tensorflow) (1.16.0)\n",
      "Requirement already satisfied: termcolor>=1.1.0 in c:\\users\\dell\\appdata\\roaming\\python\\python312\\site-packages (from tensorflow-intel==2.18.0->tensorflow) (2.5.0)\n",
      "Requirement already satisfied: typing-extensions>=3.6.6 in c:\\users\\dell\\appdata\\roaming\\python\\python312\\site-packages (from tensorflow-intel==2.18.0->tensorflow) (4.12.2)\n",
      "Requirement already satisfied: wrapt>=1.11.0 in c:\\users\\dell\\appdata\\roaming\\python\\python312\\site-packages (from tensorflow-intel==2.18.0->tensorflow) (1.17.0)\n",
      "Requirement already satisfied: grpcio<2.0,>=1.24.3 in c:\\users\\dell\\appdata\\roaming\\python\\python312\\site-packages (from tensorflow-intel==2.18.0->tensorflow) (1.68.1)\n",
      "Requirement already satisfied: tensorboard<2.19,>=2.18 in c:\\users\\dell\\appdata\\roaming\\python\\python312\\site-packages (from tensorflow-intel==2.18.0->tensorflow) (2.18.0)\n",
      "Requirement already satisfied: keras>=3.5.0 in c:\\users\\dell\\appdata\\roaming\\python\\python312\\site-packages (from tensorflow-intel==2.18.0->tensorflow) (3.7.0)\n",
      "Requirement already satisfied: numpy<2.1.0,>=1.26.0 in c:\\users\\dell\\appdata\\roaming\\python\\python312\\site-packages (from tensorflow-intel==2.18.0->tensorflow) (1.26.4)\n",
      "Requirement already satisfied: h5py>=3.11.0 in c:\\users\\dell\\appdata\\roaming\\python\\python312\\site-packages (from tensorflow-intel==2.18.0->tensorflow) (3.12.1)\n",
      "Requirement already satisfied: ml-dtypes<0.5.0,>=0.4.0 in c:\\users\\dell\\appdata\\roaming\\python\\python312\\site-packages (from tensorflow-intel==2.18.0->tensorflow) (0.4.1)\n",
      "Requirement already satisfied: wheel<1.0,>=0.23.0 in c:\\users\\dell\\appdata\\roaming\\python\\python312\\site-packages (from astunparse>=1.6.0->tensorflow-intel==2.18.0->tensorflow) (0.45.1)\n",
      "Requirement already satisfied: rich in c:\\users\\dell\\appdata\\roaming\\python\\python312\\site-packages (from keras>=3.5.0->tensorflow-intel==2.18.0->tensorflow) (13.9.4)\n",
      "Requirement already satisfied: namex in c:\\users\\dell\\appdata\\roaming\\python\\python312\\site-packages (from keras>=3.5.0->tensorflow-intel==2.18.0->tensorflow) (0.0.8)\n",
      "Requirement already satisfied: optree in c:\\users\\dell\\appdata\\roaming\\python\\python312\\site-packages (from keras>=3.5.0->tensorflow-intel==2.18.0->tensorflow) (0.13.1)\n",
      "Requirement already satisfied: charset-normalizer<4,>=2 in c:\\users\\dell\\appdata\\roaming\\python\\python312\\site-packages (from requests<3,>=2.21.0->tensorflow-intel==2.18.0->tensorflow) (3.4.0)\n",
      "Requirement already satisfied: idna<4,>=2.5 in c:\\users\\dell\\appdata\\roaming\\python\\python312\\site-packages (from requests<3,>=2.21.0->tensorflow-intel==2.18.0->tensorflow) (3.10)\n",
      "Requirement already satisfied: urllib3<3,>=1.21.1 in c:\\users\\dell\\appdata\\roaming\\python\\python312\\site-packages (from requests<3,>=2.21.0->tensorflow-intel==2.18.0->tensorflow) (2.2.3)\n",
      "Requirement already satisfied: certifi>=2017.4.17 in c:\\users\\dell\\appdata\\roaming\\python\\python312\\site-packages (from requests<3,>=2.21.0->tensorflow-intel==2.18.0->tensorflow) (2024.12.14)\n",
      "Requirement already satisfied: markdown>=2.6.8 in c:\\users\\dell\\appdata\\roaming\\python\\python312\\site-packages (from tensorboard<2.19,>=2.18->tensorflow-intel==2.18.0->tensorflow) (3.7)\n",
      "Requirement already satisfied: tensorboard-data-server<0.8.0,>=0.7.0 in c:\\users\\dell\\appdata\\roaming\\python\\python312\\site-packages (from tensorboard<2.19,>=2.18->tensorflow-intel==2.18.0->tensorflow) (0.7.2)\n",
      "Requirement already satisfied: werkzeug>=1.0.1 in c:\\users\\dell\\appdata\\roaming\\python\\python312\\site-packages (from tensorboard<2.19,>=2.18->tensorflow-intel==2.18.0->tensorflow) (3.1.3)\n",
      "Requirement already satisfied: MarkupSafe>=2.1.1 in c:\\users\\dell\\appdata\\roaming\\python\\python312\\site-packages (from werkzeug>=1.0.1->tensorboard<2.19,>=2.18->tensorflow-intel==2.18.0->tensorflow) (3.0.2)\n",
      "Requirement already satisfied: markdown-it-py>=2.2.0 in c:\\users\\dell\\appdata\\roaming\\python\\python312\\site-packages (from rich->keras>=3.5.0->tensorflow-intel==2.18.0->tensorflow) (3.0.0)\n",
      "Requirement already satisfied: pygments<3.0.0,>=2.13.0 in c:\\users\\dell\\appdata\\roaming\\python\\python312\\site-packages (from rich->keras>=3.5.0->tensorflow-intel==2.18.0->tensorflow) (2.18.0)\n",
      "Requirement already satisfied: mdurl~=0.1 in c:\\users\\dell\\appdata\\roaming\\python\\python312\\site-packages (from markdown-it-py>=2.2.0->rich->keras>=3.5.0->tensorflow-intel==2.18.0->tensorflow) (0.1.2)\n",
      "Downloading protobuf-5.29.4-cp310-abi3-win_amd64.whl (434 kB)\n",
      "Installing collected packages: protobuf\n",
      "  Attempting uninstall: protobuf\n",
      "    Found existing installation: protobuf 3.20.2\n",
      "    Uninstalling protobuf-3.20.2:\n",
      "      Successfully uninstalled protobuf-3.20.2\n",
      "Successfully installed protobuf-5.29.4\n"
     ]
    },
    {
     "name": "stderr",
     "output_type": "stream",
     "text": [
      "ERROR: pip's dependency resolver does not currently take into account all the packages that are installed. This behaviour is the source of the following dependency conflicts.\n",
      "paddlepaddle 2.6.2 requires protobuf<=3.20.2,>=3.1.0; platform_system == \"Windows\", but you have protobuf 5.29.4 which is incompatible.\n"
     ]
    },
    {
     "name": "stdout",
     "output_type": "stream",
     "text": [
      "Defaulting to user installation because normal site-packages is not writeable\n",
      "Requirement already satisfied: scikit-learn in c:\\users\\dell\\appdata\\roaming\\python\\python312\\site-packages (1.6.0)\n",
      "Requirement already satisfied: numpy>=1.19.5 in c:\\users\\dell\\appdata\\roaming\\python\\python312\\site-packages (from scikit-learn) (1.26.4)\n",
      "Requirement already satisfied: scipy>=1.6.0 in c:\\users\\dell\\appdata\\roaming\\python\\python312\\site-packages (from scikit-learn) (1.14.1)\n",
      "Requirement already satisfied: joblib>=1.2.0 in c:\\users\\dell\\appdata\\roaming\\python\\python312\\site-packages (from scikit-learn) (1.4.2)\n",
      "Requirement already satisfied: threadpoolctl>=3.1.0 in c:\\users\\dell\\appdata\\roaming\\python\\python312\\site-packages (from scikit-learn) (3.5.0)\n"
     ]
    }
   ],
   "source": [
    "!pip install tensorflow\n",
    "!pip install scikit-learn"
   ]
  },
  {
   "cell_type": "markdown",
   "id": "23bb74dc-bcda-4692-831f-b005f94739bc",
   "metadata": {
    "id": "23bb74dc-bcda-4692-831f-b005f94739bc"
   },
   "source": [
    "# Exploratory Data Analysis(EDA)"
   ]
  },
  {
   "cell_type": "markdown",
   "id": "4653bf7a-26b1-42b3-b025-7406c38d5d77",
   "metadata": {
    "id": "4653bf7a-26b1-42b3-b025-7406c38d5d77"
   },
   "source": [
    "# 🏥 Column Descriptions\n",
    "\n",
    "## **1. Name** 🏷️  \n",
    "**Commercial designation** of the drug (e.g., *5-FLUOROURACIL*).  \n",
    "\n",
    "## **2. Dosage** 💊  \n",
    "**Active ingredient quantity** per unit (e.g., *250 MG*, *1000 mg/20 ml*).  \n",
    "\n",
    "## **3. Form** 🧪  \n",
    "**Pharmaceutical formulation** (e.g., *Injectable solution*, *Oral suspension powder*).  \n",
    "\n",
    "## **4. Presentation** 📦  \n",
    "**Packaging format** (e.g., *B/5/5ML* means a box containing 5 ampoules of 5 mL).  \n",
    "\n",
    "## **5. INN (International Nonproprietary Name - DCI in French)** 🏷️  \n",
    "**Generic name** of the active ingredient (e.g., *FLUOROURACIL* for *5-FLUOROURACIL*).  \n",
    "\n",
    "## **6. Class** 🔬  \n",
    "**Therapeutic category** of the drug (e.g., *ANTINEOPLASTIC AND IMMUNOMODULATORY AGENTS*).  \n",
    "\n",
    "## **7. Subclass** 🔍  \n",
    "**More specific classification** within the therapeutic class (e.g., *ANTINEOPLASTIC AGENTS* for anticancer treatments).  \n",
    "\n",
    "## **8. Laboratory** 🏭  \n",
    "**Pharmaceutical company** manufacturing the drug (e.g., *EBEWE Pharma*, *ADWYA*).  \n",
    "\n",
    "## **9. Marketing Authorization (AMM in French)** 📜  \n",
    "**Registration number** of the drug.  \n",
    "\n",
    "## **10. Marketing Authorization Date** 📆  \n",
    "**Date when the drug was approved for market release**.  \n",
    "\n",
    "## **11. Primary Packaging** 📦  \n",
    "**Type of direct packaging** (e.g., *Vial*, *Ampoule*).  \n",
    "\n",
    "## **12. Primary Packaging Specification** 🏷️  \n",
    "**Material used** for packaging (e.g., *Type I colorless glass*).  \n",
    "\n",
    "## **13. Regulatory Classification (Tableau)** 📋  \n",
    "**Regulatory classification** (e.g., *A* may indicate strict prescription drugs).  \n",
    "\n",
    "## **14. Shelf Life** ⏳  \n",
    "**Validity period** of the drug (in months, e.g., *24 months*).  \n",
    "\n",
    "## **15. Indications** 🏥  \n",
    "**List of conditions** the drug is prescribed for (e.g., *Colorectal cancer, Bacterial infections*).  \n",
    "\n",
    "## **16. G/P/B (Drug Type)** 🧬  \n",
    "**Type of drug classification:**  \n",
    "- **G**: Generic  \n",
    "- **P**: Princeps (original patented drug)  \n",
    "- **B**: Biosimilar (alternative to a biological drug).  \n",
    "\n",
    "## **17. VEIC (Vital and Essential Drug Classification)** 💡  \n",
    "**Importance level of the drug:**  \n",
    "- **Vital**: Essential for survival.  \n",
    "- **Essential**: Important but less critical.  \n"
   ]
  },
  {
   "cell_type": "code",
   "execution_count": 8,
   "id": "5283c922-2ec0-4220-a460-b65c219c7683",
   "metadata": {
    "colab": {
     "base_uri": "https://localhost:8080/",
     "height": 590
    },
    "id": "5283c922-2ec0-4220-a460-b65c219c7683",
    "outputId": "57ece5c0-08b1-48fd-9b10-c456ad0edb28",
    "scrolled": true
   },
   "outputs": [
    {
     "data": {
      "text/html": [
       "<div>\n",
       "<style scoped>\n",
       "    .dataframe tbody tr th:only-of-type {\n",
       "        vertical-align: middle;\n",
       "    }\n",
       "\n",
       "    .dataframe tbody tr th {\n",
       "        vertical-align: top;\n",
       "    }\n",
       "\n",
       "    .dataframe thead th {\n",
       "        text-align: right;\n",
       "    }\n",
       "</style>\n",
       "<table border=\"1\" class=\"dataframe\">\n",
       "  <thead>\n",
       "    <tr style=\"text-align: right;\">\n",
       "      <th></th>\n",
       "      <th>Nom</th>\n",
       "      <th>Dosage</th>\n",
       "      <th>Forme</th>\n",
       "      <th>Présentation</th>\n",
       "      <th>DCI</th>\n",
       "      <th>Classe</th>\n",
       "      <th>Sous Classe</th>\n",
       "      <th>Laboratoire</th>\n",
       "      <th>AMM</th>\n",
       "      <th>Date AMM</th>\n",
       "      <th>Conditionnement primaire</th>\n",
       "      <th>Spécifocation Conditionnement primaire</th>\n",
       "      <th>tableau</th>\n",
       "      <th>Durée de conservation</th>\n",
       "      <th>Indications</th>\n",
       "      <th>G/P/B</th>\n",
       "      <th>VEIC</th>\n",
       "    </tr>\n",
       "  </thead>\n",
       "  <tbody>\n",
       "    <tr>\n",
       "      <th>0</th>\n",
       "      <td>5-FLUOROURACIL</td>\n",
       "      <td>250 MG</td>\n",
       "      <td>Solution injectable</td>\n",
       "      <td>B/5/5ML</td>\n",
       "      <td>FLUOROURACILE</td>\n",
       "      <td>ANTINEOPLASIQUES ET IMMUNOMODULATEURS</td>\n",
       "      <td>ANTINEOPLASIQUES</td>\n",
       "      <td>EBEWE Pharma</td>\n",
       "      <td>6943091H</td>\n",
       "      <td>2001-01-20</td>\n",
       "      <td>Ampoule</td>\n",
       "      <td>en verre</td>\n",
       "      <td>A</td>\n",
       "      <td>24</td>\n",
       "      <td>- Adénocarcinomes digestifs évolués;\\r- Cancer...</td>\n",
       "      <td>Générique</td>\n",
       "      <td>Vital</td>\n",
       "    </tr>\n",
       "    <tr>\n",
       "      <th>1</th>\n",
       "      <td>5-FLUOROURACILE EBEWE</td>\n",
       "      <td>1000 mg/20 ml</td>\n",
       "      <td>Solution injectable pour perfusion</td>\n",
       "      <td>B/1/20 ml</td>\n",
       "      <td>FLUOROURACILE</td>\n",
       "      <td>ANTINEOPLASIQUES ET IMMUNOMODULATEURS</td>\n",
       "      <td>ANTINEOPLASIQUES</td>\n",
       "      <td>EBEWE Pharma</td>\n",
       "      <td>6943093H</td>\n",
       "      <td>2012-04-30</td>\n",
       "      <td>Flacon</td>\n",
       "      <td>en verre incolore de type I + bouchon bromobut...</td>\n",
       "      <td>A</td>\n",
       "      <td>24</td>\n",
       "      <td>- Adénocarcinomes digestifs évolués;\\r- Cancer...</td>\n",
       "      <td>Générique</td>\n",
       "      <td>Vital</td>\n",
       "    </tr>\n",
       "    <tr>\n",
       "      <th>2</th>\n",
       "      <td>5-FLUOROURACILE EBEWE</td>\n",
       "      <td>500 mg/10 ml</td>\n",
       "      <td>Solution injectable pour perfusion</td>\n",
       "      <td>B/5/10 ml</td>\n",
       "      <td>FLUOROURACILE</td>\n",
       "      <td>ANTINEOPLASIQUES ET IMMUNOMODULATEURS</td>\n",
       "      <td>ANTINEOPLASIQUES</td>\n",
       "      <td>EBEWE Pharma</td>\n",
       "      <td>6943092H</td>\n",
       "      <td>2012-04-30</td>\n",
       "      <td>Flacon</td>\n",
       "      <td>en verre incolore de type I + bouchon bromobut...</td>\n",
       "      <td>A</td>\n",
       "      <td>24</td>\n",
       "      <td>- Adénocarcinomes digestifs évolués;\\r- Cancer...</td>\n",
       "      <td>Générique</td>\n",
       "      <td>Vital</td>\n",
       "    </tr>\n",
       "    <tr>\n",
       "      <th>3</th>\n",
       "      <td>ABBOTICINE</td>\n",
       "      <td>200 MG</td>\n",
       "      <td>Poudre pour suspension orale</td>\n",
       "      <td>FL/60ML</td>\n",
       "      <td>ERYTHROMYCINE</td>\n",
       "      <td>ANTIINFECTIEUX GENERAUX A USAGE SYSTEMIQUE</td>\n",
       "      <td>ANTIBACTERIENS (USAGE SYSTEMIQUE)</td>\n",
       "      <td>ADWYA</td>\n",
       "      <td>9043061</td>\n",
       "      <td>1990-12-19</td>\n",
       "      <td>Flacon</td>\n",
       "      <td>en verre ambre</td>\n",
       "      <td>A</td>\n",
       "      <td>48</td>\n",
       "      <td>INFECTIONS DUES AUX GERMES SENSIBLES NOTAMMENT...</td>\n",
       "      <td>Princeps</td>\n",
       "      <td>Essentiel</td>\n",
       "    </tr>\n",
       "    <tr>\n",
       "      <th>4</th>\n",
       "      <td>ABEVMY</td>\n",
       "      <td>400 mg(25mg/ml)</td>\n",
       "      <td>Solution à diluer pour perfusion</td>\n",
       "      <td>B/1FL/16ml</td>\n",
       "      <td>BEVACIZUMAB</td>\n",
       "      <td>ANTINEOPLASIQUES ET IMMUNOMODULATEURS</td>\n",
       "      <td>ANTINEOPLASIQUES</td>\n",
       "      <td>MYLAN PHARMACEUTICALS PRIVATE LIMITED</td>\n",
       "      <td>20343022H</td>\n",
       "      <td>2021-09-06</td>\n",
       "      <td>Flacon</td>\n",
       "      <td>en verrede type I</td>\n",
       "      <td>A</td>\n",
       "      <td>24</td>\n",
       "      <td>Cancer métastatique du colon ou du rectum\\r- A...</td>\n",
       "      <td>Biosimilaire</td>\n",
       "      <td>Vital</td>\n",
       "    </tr>\n",
       "  </tbody>\n",
       "</table>\n",
       "</div>"
      ],
      "text/plain": [
       "                     Nom           Dosage                               Forme  \\\n",
       "0         5-FLUOROURACIL           250 MG                 Solution injectable   \n",
       "1  5-FLUOROURACILE EBEWE    1000 mg/20 ml  Solution injectable pour perfusion   \n",
       "2  5-FLUOROURACILE EBEWE     500 mg/10 ml  Solution injectable pour perfusion   \n",
       "3             ABBOTICINE           200 MG        Poudre pour suspension orale   \n",
       "4                 ABEVMY  400 mg(25mg/ml)    Solution à diluer pour perfusion   \n",
       "\n",
       "  Présentation            DCI                                      Classe  \\\n",
       "0      B/5/5ML  FLUOROURACILE       ANTINEOPLASIQUES ET IMMUNOMODULATEURS   \n",
       "1    B/1/20 ml  FLUOROURACILE       ANTINEOPLASIQUES ET IMMUNOMODULATEURS   \n",
       "2    B/5/10 ml  FLUOROURACILE       ANTINEOPLASIQUES ET IMMUNOMODULATEURS   \n",
       "3      FL/60ML  ERYTHROMYCINE  ANTIINFECTIEUX GENERAUX A USAGE SYSTEMIQUE   \n",
       "4   B/1FL/16ml    BEVACIZUMAB       ANTINEOPLASIQUES ET IMMUNOMODULATEURS   \n",
       "\n",
       "                         Sous Classe                            Laboratoire  \\\n",
       "0                   ANTINEOPLASIQUES                           EBEWE Pharma   \n",
       "1                   ANTINEOPLASIQUES                           EBEWE Pharma   \n",
       "2                   ANTINEOPLASIQUES                           EBEWE Pharma   \n",
       "3  ANTIBACTERIENS (USAGE SYSTEMIQUE)                                  ADWYA   \n",
       "4                   ANTINEOPLASIQUES  MYLAN PHARMACEUTICALS PRIVATE LIMITED   \n",
       "\n",
       "         AMM   Date AMM Conditionnement primaire  \\\n",
       "0   6943091H 2001-01-20                  Ampoule   \n",
       "1   6943093H 2012-04-30                   Flacon   \n",
       "2   6943092H 2012-04-30                   Flacon   \n",
       "3    9043061 1990-12-19                   Flacon   \n",
       "4  20343022H 2021-09-06                   Flacon   \n",
       "\n",
       "              Spécifocation Conditionnement primaire tableau  \\\n",
       "0                                           en verre       A   \n",
       "1  en verre incolore de type I + bouchon bromobut...       A   \n",
       "2  en verre incolore de type I + bouchon bromobut...       A   \n",
       "3                                     en verre ambre       A   \n",
       "4                                  en verrede type I       A   \n",
       "\n",
       "   Durée de conservation                                        Indications  \\\n",
       "0                     24  - Adénocarcinomes digestifs évolués;\\r- Cancer...   \n",
       "1                     24  - Adénocarcinomes digestifs évolués;\\r- Cancer...   \n",
       "2                     24  - Adénocarcinomes digestifs évolués;\\r- Cancer...   \n",
       "3                     48  INFECTIONS DUES AUX GERMES SENSIBLES NOTAMMENT...   \n",
       "4                     24  Cancer métastatique du colon ou du rectum\\r- A...   \n",
       "\n",
       "          G/P/B       VEIC  \n",
       "0     Générique      Vital  \n",
       "1     Générique      Vital  \n",
       "2     Générique      Vital  \n",
       "3      Princeps  Essentiel  \n",
       "4  Biosimilaire      Vital  "
      ]
     },
     "execution_count": 8,
     "metadata": {},
     "output_type": "execute_result"
    }
   ],
   "source": [
    "df= pd.read_excel('liste_amm.xls')\n",
    "df.head()"
   ]
  },
  {
   "cell_type": "code",
   "execution_count": 9,
   "id": "f27eaf95-65ec-4579-afe2-c46c7a16ead6",
   "metadata": {
    "colab": {
     "base_uri": "https://localhost:8080/"
    },
    "id": "f27eaf95-65ec-4579-afe2-c46c7a16ead6",
    "outputId": "313cff4e-0eda-42f6-bf0e-b41a880f1d49"
   },
   "outputs": [
    {
     "data": {
      "text/plain": [
       "(6059, 17)"
      ]
     },
     "execution_count": 9,
     "metadata": {},
     "output_type": "execute_result"
    }
   ],
   "source": [
    "# A clear vision about the dataset with the neumarical values\n",
    "df.shape"
   ]
  },
  {
   "cell_type": "markdown",
   "id": "faeb8782-0b68-4fe7-82ea-b78cc2620398",
   "metadata": {
    "id": "faeb8782-0b68-4fe7-82ea-b78cc2620398"
   },
   "source": [
    "# Data Understanding"
   ]
  },
  {
   "cell_type": "code",
   "execution_count": 11,
   "id": "7c346d1c-12b5-45ff-b177-4098fd9b00cc",
   "metadata": {
    "colab": {
     "base_uri": "https://localhost:8080/"
    },
    "id": "7c346d1c-12b5-45ff-b177-4098fd9b00cc",
    "outputId": "28a0a2ca-0e5e-43f4-b006-6646ae9a5467"
   },
   "outputs": [
    {
     "name": "stdout",
     "output_type": "stream",
     "text": [
      "<class 'pandas.core.frame.DataFrame'>\n",
      "RangeIndex: 6059 entries, 0 to 6058\n",
      "Data columns (total 17 columns):\n",
      " #   Column                                  Non-Null Count  Dtype         \n",
      "---  ------                                  --------------  -----         \n",
      " 0   Nom                                     6059 non-null   object        \n",
      " 1   Dosage                                  5514 non-null   object        \n",
      " 2   Forme                                   6059 non-null   object        \n",
      " 3   Présentation                            6054 non-null   object        \n",
      " 4   DCI                                     6058 non-null   object        \n",
      " 5   Classe                                  6059 non-null   object        \n",
      " 6   Sous Classe                             6059 non-null   object        \n",
      " 7   Laboratoire                             6059 non-null   object        \n",
      " 8   AMM                                     6059 non-null   object        \n",
      " 9   Date AMM                                6059 non-null   datetime64[ns]\n",
      " 10  Conditionnement primaire                6059 non-null   object        \n",
      " 11  Spécifocation Conditionnement primaire  5934 non-null   object        \n",
      " 12  tableau                                 6059 non-null   object        \n",
      " 13  Durée de conservation                   6059 non-null   int64         \n",
      " 14  Indications                             6051 non-null   object        \n",
      " 15  G/P/B                                   6059 non-null   object        \n",
      " 16  VEIC                                    5996 non-null   object        \n",
      "dtypes: datetime64[ns](1), int64(1), object(15)\n",
      "memory usage: 804.8+ KB\n"
     ]
    }
   ],
   "source": [
    "df.info()"
   ]
  },
  {
   "cell_type": "code",
   "execution_count": 12,
   "id": "88ca0a66-2017-4f61-8df6-7aa97136013c",
   "metadata": {
    "colab": {
     "base_uri": "https://localhost:8080/",
     "height": 300
    },
    "id": "88ca0a66-2017-4f61-8df6-7aa97136013c",
    "outputId": "ec6f81d2-94f5-42fc-b95c-20702bd3d028"
   },
   "outputs": [
    {
     "data": {
      "text/html": [
       "<div>\n",
       "<style scoped>\n",
       "    .dataframe tbody tr th:only-of-type {\n",
       "        vertical-align: middle;\n",
       "    }\n",
       "\n",
       "    .dataframe tbody tr th {\n",
       "        vertical-align: top;\n",
       "    }\n",
       "\n",
       "    .dataframe thead th {\n",
       "        text-align: right;\n",
       "    }\n",
       "</style>\n",
       "<table border=\"1\" class=\"dataframe\">\n",
       "  <thead>\n",
       "    <tr style=\"text-align: right;\">\n",
       "      <th></th>\n",
       "      <th>Date AMM</th>\n",
       "      <th>Durée de conservation</th>\n",
       "    </tr>\n",
       "  </thead>\n",
       "  <tbody>\n",
       "    <tr>\n",
       "      <th>count</th>\n",
       "      <td>6059</td>\n",
       "      <td>6059.000000</td>\n",
       "    </tr>\n",
       "    <tr>\n",
       "      <th>mean</th>\n",
       "      <td>2011-05-11 14:54:33.807558912</td>\n",
       "      <td>30.930186</td>\n",
       "    </tr>\n",
       "    <tr>\n",
       "      <th>min</th>\n",
       "      <td>1987-09-08 00:00:00</td>\n",
       "      <td>0.000000</td>\n",
       "    </tr>\n",
       "    <tr>\n",
       "      <th>25%</th>\n",
       "      <td>2005-10-01 00:00:00</td>\n",
       "      <td>24.000000</td>\n",
       "    </tr>\n",
       "    <tr>\n",
       "      <th>50%</th>\n",
       "      <td>2013-03-12 00:00:00</td>\n",
       "      <td>24.000000</td>\n",
       "    </tr>\n",
       "    <tr>\n",
       "      <th>75%</th>\n",
       "      <td>2018-03-07 00:00:00</td>\n",
       "      <td>36.000000</td>\n",
       "    </tr>\n",
       "    <tr>\n",
       "      <th>max</th>\n",
       "      <td>2024-01-09 00:00:00</td>\n",
       "      <td>60.000000</td>\n",
       "    </tr>\n",
       "    <tr>\n",
       "      <th>std</th>\n",
       "      <td>NaN</td>\n",
       "      <td>9.261288</td>\n",
       "    </tr>\n",
       "  </tbody>\n",
       "</table>\n",
       "</div>"
      ],
      "text/plain": [
       "                            Date AMM  Durée de conservation\n",
       "count                           6059            6059.000000\n",
       "mean   2011-05-11 14:54:33.807558912              30.930186\n",
       "min              1987-09-08 00:00:00               0.000000\n",
       "25%              2005-10-01 00:00:00              24.000000\n",
       "50%              2013-03-12 00:00:00              24.000000\n",
       "75%              2018-03-07 00:00:00              36.000000\n",
       "max              2024-01-09 00:00:00              60.000000\n",
       "std                              NaN               9.261288"
      ]
     },
     "execution_count": 12,
     "metadata": {},
     "output_type": "execute_result"
    }
   ],
   "source": [
    "df.describe()\n"
   ]
  },
  {
   "cell_type": "code",
   "execution_count": 13,
   "id": "d5db1859-03d5-499f-b03a-c630600c7bcd",
   "metadata": {
    "colab": {
     "base_uri": "https://localhost:8080/",
     "height": 617
    },
    "id": "d5db1859-03d5-499f-b03a-c630600c7bcd",
    "outputId": "de19d41b-185c-4c8c-a746-addda01da9ea"
   },
   "outputs": [
    {
     "data": {
      "text/plain": [
       "Nom                                               object\n",
       "Dosage                                            object\n",
       "Forme                                             object\n",
       "Présentation                                      object\n",
       "DCI                                               object\n",
       "Classe                                            object\n",
       "Sous Classe                                       object\n",
       "Laboratoire                                       object\n",
       "AMM                                               object\n",
       "Date AMM                                  datetime64[ns]\n",
       "Conditionnement primaire                          object\n",
       "Spécifocation Conditionnement primaire            object\n",
       "tableau                                           object\n",
       "Durée de conservation                              int64\n",
       "Indications                                       object\n",
       "G/P/B                                             object\n",
       "VEIC                                              object\n",
       "dtype: object"
      ]
     },
     "execution_count": 13,
     "metadata": {},
     "output_type": "execute_result"
    }
   ],
   "source": [
    "df.dtypes"
   ]
  },
  {
   "cell_type": "code",
   "execution_count": 14,
   "id": "007c5f93-5cd2-4bc4-a43a-f6c83b4ceeb4",
   "metadata": {
    "colab": {
     "base_uri": "https://localhost:8080/",
     "height": 424
    },
    "id": "007c5f93-5cd2-4bc4-a43a-f6c83b4ceeb4",
    "outputId": "71e32077-d110-4418-b114-2cde1aa0afdf"
   },
   "outputs": [
    {
     "data": {
      "text/plain": [
       "<Axes: ylabel='count'>"
      ]
     },
     "execution_count": 14,
     "metadata": {},
     "output_type": "execute_result"
    },
    {
     "data": {
      "image/png": "[encoded data removed]",
      "text/plain": [
       "<Figure size 640x480 with 1 Axes>"
      ]
     },
     "metadata": {},
     "output_type": "display_data"
    }
   ],
   "source": [
    "#3.Visualisation\n",
    "#statistique sur le nombre de chaque type des colonnes\n",
    "df.dtypes.value_counts()\n",
    "df.dtypes.value_counts().plot.pie()"
   ]
  },
  {
   "cell_type": "code",
   "execution_count": 15,
   "id": "794a0c26-040c-48cd-882c-8a8103e70d9b",
   "metadata": {
    "colab": {
     "base_uri": "https://localhost:8080/"
    },
    "id": "794a0c26-040c-48cd-882c-8a8103e70d9b",
    "outputId": "fefb8ae5-d471-4fba-eeb4-67d71b71bd20"
   },
   "outputs": [
    {
     "name": "stdout",
     "output_type": "stream",
     "text": [
      "                                        Unique Values  Missing Values\n",
      "Nom                                              3339               0\n",
      "Dosage                                           1169             545\n",
      "Forme                                             149               0\n",
      "Présentation                                     1421               5\n",
      "DCI                                              1086               1\n",
      "Classe                                             14               0\n",
      "Sous Classe                                        85               0\n",
      "Laboratoire                                       436               0\n",
      "AMM                                              6047               0\n",
      "Date AMM                                         1544               0\n",
      "Conditionnement primaire                           28               0\n",
      "Spécifocation Conditionnement primaire           2302             125\n",
      "tableau                                             4               0\n",
      "Durée de conservation                              21               0\n",
      "Indications                                      3304               8\n",
      "G/P/B                                               3               0\n",
      "VEIC                                                4              63\n"
     ]
    }
   ],
   "source": [
    "# Summarize the dataset to check for missing values and unique entries in each column.\n",
    "summary = df.describe(include='all')\n",
    "missing_values = df.isnull().sum()\n",
    "unique_values = df.nunique()\n",
    "\n",
    "# Combine the summaries into a single DataFrame for better visualization\n",
    "summary_df = pd.DataFrame({'Unique Values': unique_values, 'Missing Values': missing_values})\n",
    "\n",
    "# Display the summary DataFrame\n",
    "print(summary_df)"
   ]
  },
  {
   "cell_type": "code",
   "execution_count": 16,
   "id": "d0ed862d-28ce-495a-bb81-dec8abd08396",
   "metadata": {
    "colab": {
     "base_uri": "https://localhost:8080/"
    },
    "id": "d0ed862d-28ce-495a-bb81-dec8abd08396",
    "outputId": "56397672-c148-46af-bd52-56ec8ca5c1e0"
   },
   "outputs": [
    {
     "name": "stdout",
     "output_type": "stream",
     "text": [
      "                        Nom Dosage                                Forme  \\\n",
      "53            ACTIFED RHUME    NaN                             Comprimé   \n",
      "54  ACTIFED RHUME ET FIEVRE    NaN                             Comprimé   \n",
      "55       ACTIFED VITAMINE C    NaN                   Comprimé pelliculé   \n",
      "65               ACTISOUFRE    NaN  Solution pour pulvérisation buccale   \n",
      "66           ACTIVEX ADULTE    NaN       Granulés pour solution buvable   \n",
      "\n",
      "   Présentation                                       DCI  \\\n",
      "53         B/20              PSEUDOEPHEDRINE+TRIPROLIDINE   \n",
      "54         B/16  PARACETAMOL+PSEUDOEPHEDRINE+TRIPROLIDINE   \n",
      "55         B/20    PARACETAMOL+PSEUDOEPHEDRINE+VITAMINE C   \n",
      "65    FL/100 ml             MONOSULFURE DE SODIUM+LEVURES   \n",
      "66  B/8 sachets        PARACETAMOL+PHENIRAMINE+VITAMINE C   \n",
      "\n",
      "                  Classe                         Sous Classe Laboratoire  \\\n",
      "53  SYSTEME RESPIRATOIRE             MEDICAMENTS POUR LE NEZ      TERIAK   \n",
      "54  SYSTEME RESPIRATOIRE             MEDICAMENTS POUR LE NEZ      TERIAK   \n",
      "55  SYSTEME RESPIRATOIRE             MEDICAMENTS POUR LE NEZ      TERIAK   \n",
      "65  SYSTEME RESPIRATOIRE  MEDICAMENTS DE LA TOUX ET DU RHUME    GRIMBERG   \n",
      "66  SYSTEME RESPIRATOIRE  MEDICAMENTS DE LA TOUX ET DU RHUME      TERIAK   \n",
      "\n",
      "         AMM   Date AMM Conditionnement primaire  \\\n",
      "53   9253262 2005-03-16                  Blister   \n",
      "54   9253263 2005-03-16                  Blister   \n",
      "55   9253261 2005-03-16                  Blister   \n",
      "65  10173041 2008-04-22     Récipient pressurisé   \n",
      "66   9253871 2016-05-17                   Sachet   \n",
      "\n",
      "               Spécifocation Conditionnement primaire tableau  \\\n",
      "53                                    en PVC/PVDC/ALU       O   \n",
      "54                                    en PVC/PVDC/ALU       O   \n",
      "55                                    en PVC/PVDC/ALU       O   \n",
      "65  en aluminium muni  d'un embout  nasal + ambou ...       O   \n",
      "66  en complexe multicouche :papier Kraft blanc+fe...       O   \n",
      "\n",
      "    Durée de conservation                                        Indications  \\\n",
      "53                     36  Traitement symtomatique de la congestion nasal...   \n",
      "54                     24  Traitement symptomatique de la congestion et d...   \n",
      "55                     24  Traitement symptomatique de l'hypersécrétion n...   \n",
      "65                     24  Utilisé dans les états inflammatoires chroniqu...   \n",
      "66                     24  1/ TRAITEMENT SYMPTOMATIQUE DES AFFECTIONS ORL...   \n",
      "\n",
      "        G/P/B     VEIC  \n",
      "53   Princeps  Confort  \n",
      "54  Générique  Confort  \n",
      "55  Générique  Confort  \n",
      "65   Princeps  Confort  \n",
      "66  Générique  Confort  \n"
     ]
    }
   ],
   "source": [
    "# Identify rows with missing values\n",
    "missing_rows = df[df.isnull().any(axis=1)]\n",
    "\n",
    "# Display the rows with missing values\n",
    "print(missing_rows.head())"
   ]
  },
  {
   "cell_type": "code",
   "execution_count": 17,
   "id": "c1e75c17-45a4-45d9-af03-dd137a82d81e",
   "metadata": {
    "id": "c1e75c17-45a4-45d9-af03-dd137a82d81e"
   },
   "outputs": [],
   "source": [
    "def dataoverview(df, message):\n",
    "    print(f'{message}:\\n')\n",
    "    print(\"Rows:\", df.shape[0])\n",
    "    print(\"\\nNumber of features:\", df.shape[1])\n",
    "    print(\"\\nFeatures:\")\n",
    "    print(df.columns.tolist())\n",
    "    print(\"\\nMissing values:\", df.isnull().sum().values.sum())\n",
    "    print(\"\\nUnique values:\")\n",
    "    print(df.nunique())"
   ]
  },
  {
   "cell_type": "code",
   "execution_count": 18,
   "id": "864781e8-f09b-43a5-84ec-dfd3066bf949",
   "metadata": {
    "colab": {
     "base_uri": "https://localhost:8080/"
    },
    "id": "864781e8-f09b-43a5-84ec-dfd3066bf949",
    "outputId": "1d86faa3-91b4-43d1-baae-9c56bb6824c6",
    "scrolled": true
   },
   "outputs": [
    {
     "name": "stdout",
     "output_type": "stream",
     "text": [
      "A Overview about the dataset:\n",
      "\n",
      "Rows: 6059\n",
      "\n",
      "Number of features: 17\n",
      "\n",
      "Features:\n",
      "['Nom', 'Dosage', 'Forme', 'Présentation', 'DCI', 'Classe', 'Sous Classe', 'Laboratoire', 'AMM', 'Date AMM', 'Conditionnement primaire', 'Spécifocation Conditionnement primaire', 'tableau', 'Durée de conservation', 'Indications', 'G/P/B', 'VEIC']\n",
      "\n",
      "Missing values: 747\n",
      "\n",
      "Unique values:\n",
      "Nom                                       3339\n",
      "Dosage                                    1169\n",
      "Forme                                      149\n",
      "Présentation                              1421\n",
      "DCI                                       1086\n",
      "Classe                                      14\n",
      "Sous Classe                                 85\n",
      "Laboratoire                                436\n",
      "AMM                                       6047\n",
      "Date AMM                                  1544\n",
      "Conditionnement primaire                    28\n",
      "Spécifocation Conditionnement primaire    2302\n",
      "tableau                                      4\n",
      "Durée de conservation                       21\n",
      "Indications                               3304\n",
      "G/P/B                                        3\n",
      "VEIC                                         4\n",
      "dtype: int64\n"
     ]
    }
   ],
   "source": [
    "dataoverview(df, \"A Overview about the dataset\")"
   ]
  },
  {
   "cell_type": "code",
   "execution_count": 19,
   "id": "a46c7bba-7838-44fe-b8bd-fdd417c3ce02",
   "metadata": {
    "colab": {
     "base_uri": "https://localhost:8080/",
     "height": 272
    },
    "id": "a46c7bba-7838-44fe-b8bd-fdd417c3ce02",
    "outputId": "7e9f48b5-607c-45c7-fbaf-fa6ede49145b"
   },
   "outputs": [
    {
     "data": {
      "text/plain": [
       "Dosage                                    545\n",
       "Présentation                                5\n",
       "DCI                                         1\n",
       "Spécifocation Conditionnement primaire    125\n",
       "Indications                                 8\n",
       "VEIC                                       63\n",
       "dtype: int64"
      ]
     },
     "execution_count": 19,
     "metadata": {},
     "output_type": "execute_result"
    }
   ],
   "source": [
    "# Check for missing values in the combined dataset\n",
    "missing_values = df.isnull().sum()\n",
    "\n",
    "\n",
    "# Display the missing values for each column\n",
    "missing_values[missing_values > 0]"
   ]
  },
  {
   "cell_type": "code",
   "execution_count": 20,
   "id": "b5db6fa0-ec57-44b1-ba99-03a8db0998f3",
   "metadata": {
    "colab": {
     "base_uri": "https://localhost:8080/",
     "height": 209
    },
    "id": "b5db6fa0-ec57-44b1-ba99-03a8db0998f3",
    "outputId": "78b07fc5-7f32-4b84-c736-155470d4f128",
    "scrolled": true
   },
   "outputs": [
    {
     "data": {
      "text/plain": [
       "Présentation                                5\n",
       "Spécifocation Conditionnement primaire    125\n",
       "Indications                                 8\n",
       "VEIC                                       63\n",
       "dtype: int64"
      ]
     },
     "execution_count": 20,
     "metadata": {},
     "output_type": "execute_result"
    }
   ],
   "source": [
    "# Fill missing values in the remaining crucial columns\n",
    "df['Dosage'].fillna(df['Dosage'].mode()[0], inplace=True)\n",
    "df['DCI'].fillna(df['DCI'].mode()[0], inplace=True)\n",
    "\n",
    "# Check if there are any missing values left in the original dataset after filling\n",
    "missing_values_final = df.isnull().sum()\n",
    "missing_values_final[missing_values_final > 0]"
   ]
  },
  {
   "cell_type": "code",
   "execution_count": 21,
   "id": "0d7b096a-c72f-42c5-8fe0-9a9210246901",
   "metadata": {
    "colab": {
     "base_uri": "https://localhost:8080/"
    },
    "id": "0d7b096a-c72f-42c5-8fe0-9a9210246901",
    "outputId": "97c86533-6a83-46a0-f471-49f9855282e1"
   },
   "outputs": [
    {
     "name": "stdout",
     "output_type": "stream",
     "text": [
      "                                        Unique Values  Missing Values\n",
      "Nom                                              3339               0\n",
      "Dosage                                           1169               0\n",
      "Forme                                             149               0\n",
      "Présentation                                     1421               5\n",
      "DCI                                              1086               0\n",
      "Classe                                             14               0\n",
      "Sous Classe                                        85               0\n",
      "Laboratoire                                       436               0\n",
      "AMM                                              6047               0\n",
      "Date AMM                                         1544               0\n",
      "Conditionnement primaire                           28               0\n",
      "Spécifocation Conditionnement primaire           2302             125\n",
      "tableau                                             4               0\n",
      "Durée de conservation                              21               0\n",
      "Indications                                      3304               8\n",
      "G/P/B                                               3               0\n",
      "VEIC                                                4              63\n"
     ]
    }
   ],
   "source": [
    "# Summarize the dataset to check for missing values and unique entries in each column.\n",
    "summary = df.describe(include='all')\n",
    "missing_values = df.isnull().sum()\n",
    "unique_values = df.nunique()\n",
    "\n",
    "# Combine the summaries into a single DataFrame for better visualization\n",
    "summary_df = pd.DataFrame({'Unique Values': unique_values, 'Missing Values': missing_values})\n",
    "\n",
    "# Display the summary DataFrame\n",
    "print(summary_df)"
   ]
  },
  {
   "cell_type": "markdown",
   "id": "0eadc193-5a93-4293-8cf4-4be12a675d72",
   "metadata": {
    "id": "0eadc193-5a93-4293-8cf4-4be12a675d72"
   },
   "source": [
    "## Convert dataset to CSV"
   ]
  },
  {
   "cell_type": "code",
   "execution_count": 23,
   "id": "aaf988d8-7065-412c-ad29-6e6a00274797",
   "metadata": {
    "colab": {
     "base_uri": "https://localhost:8080/",
     "height": 608
    },
    "id": "aaf988d8-7065-412c-ad29-6e6a00274797",
    "outputId": "f7afc02b-ee2a-475d-f0e6-9c85a56a86e9"
   },
   "outputs": [
    {
     "name": "stdout",
     "output_type": "stream",
     "text": [
      "Conversion réussie ! Voici les premières lignes du CSV :\n"
     ]
    },
    {
     "data": {
      "text/html": [
       "<div>\n",
       "<style scoped>\n",
       "    .dataframe tbody tr th:only-of-type {\n",
       "        vertical-align: middle;\n",
       "    }\n",
       "\n",
       "    .dataframe tbody tr th {\n",
       "        vertical-align: top;\n",
       "    }\n",
       "\n",
       "    .dataframe thead th {\n",
       "        text-align: right;\n",
       "    }\n",
       "</style>\n",
       "<table border=\"1\" class=\"dataframe\">\n",
       "  <thead>\n",
       "    <tr style=\"text-align: right;\">\n",
       "      <th></th>\n",
       "      <th>Nom</th>\n",
       "      <th>Dosage</th>\n",
       "      <th>Forme</th>\n",
       "      <th>Présentation</th>\n",
       "      <th>DCI</th>\n",
       "      <th>Classe</th>\n",
       "      <th>Sous Classe</th>\n",
       "      <th>Laboratoire</th>\n",
       "      <th>AMM</th>\n",
       "      <th>Date AMM</th>\n",
       "      <th>Conditionnement primaire</th>\n",
       "      <th>Spécifocation Conditionnement primaire</th>\n",
       "      <th>tableau</th>\n",
       "      <th>Durée de conservation</th>\n",
       "      <th>Indications</th>\n",
       "      <th>G/P/B</th>\n",
       "      <th>VEIC</th>\n",
       "    </tr>\n",
       "  </thead>\n",
       "  <tbody>\n",
       "    <tr>\n",
       "      <th>0</th>\n",
       "      <td>5-FLUOROURACIL</td>\n",
       "      <td>250 MG</td>\n",
       "      <td>Solution injectable</td>\n",
       "      <td>B/5/5ML</td>\n",
       "      <td>FLUOROURACILE</td>\n",
       "      <td>ANTINEOPLASIQUES ET IMMUNOMODULATEURS</td>\n",
       "      <td>ANTINEOPLASIQUES</td>\n",
       "      <td>EBEWE Pharma</td>\n",
       "      <td>6943091H</td>\n",
       "      <td>2001-01-20</td>\n",
       "      <td>Ampoule</td>\n",
       "      <td>en verre</td>\n",
       "      <td>A</td>\n",
       "      <td>24</td>\n",
       "      <td>- Adénocarcinomes digestifs évolués;\\r- Cancer...</td>\n",
       "      <td>Générique</td>\n",
       "      <td>Vital</td>\n",
       "    </tr>\n",
       "    <tr>\n",
       "      <th>1</th>\n",
       "      <td>5-FLUOROURACILE EBEWE</td>\n",
       "      <td>1000 mg/20 ml</td>\n",
       "      <td>Solution injectable pour perfusion</td>\n",
       "      <td>B/1/20 ml</td>\n",
       "      <td>FLUOROURACILE</td>\n",
       "      <td>ANTINEOPLASIQUES ET IMMUNOMODULATEURS</td>\n",
       "      <td>ANTINEOPLASIQUES</td>\n",
       "      <td>EBEWE Pharma</td>\n",
       "      <td>6943093H</td>\n",
       "      <td>2012-04-30</td>\n",
       "      <td>Flacon</td>\n",
       "      <td>en verre incolore de type I + bouchon bromobut...</td>\n",
       "      <td>A</td>\n",
       "      <td>24</td>\n",
       "      <td>- Adénocarcinomes digestifs évolués;\\r- Cancer...</td>\n",
       "      <td>Générique</td>\n",
       "      <td>Vital</td>\n",
       "    </tr>\n",
       "    <tr>\n",
       "      <th>2</th>\n",
       "      <td>5-FLUOROURACILE EBEWE</td>\n",
       "      <td>500 mg/10 ml</td>\n",
       "      <td>Solution injectable pour perfusion</td>\n",
       "      <td>B/5/10 ml</td>\n",
       "      <td>FLUOROURACILE</td>\n",
       "      <td>ANTINEOPLASIQUES ET IMMUNOMODULATEURS</td>\n",
       "      <td>ANTINEOPLASIQUES</td>\n",
       "      <td>EBEWE Pharma</td>\n",
       "      <td>6943092H</td>\n",
       "      <td>2012-04-30</td>\n",
       "      <td>Flacon</td>\n",
       "      <td>en verre incolore de type I + bouchon bromobut...</td>\n",
       "      <td>A</td>\n",
       "      <td>24</td>\n",
       "      <td>- Adénocarcinomes digestifs évolués;\\r- Cancer...</td>\n",
       "      <td>Générique</td>\n",
       "      <td>Vital</td>\n",
       "    </tr>\n",
       "    <tr>\n",
       "      <th>3</th>\n",
       "      <td>ABBOTICINE</td>\n",
       "      <td>200 MG</td>\n",
       "      <td>Poudre pour suspension orale</td>\n",
       "      <td>FL/60ML</td>\n",
       "      <td>ERYTHROMYCINE</td>\n",
       "      <td>ANTIINFECTIEUX GENERAUX A USAGE SYSTEMIQUE</td>\n",
       "      <td>ANTIBACTERIENS (USAGE SYSTEMIQUE)</td>\n",
       "      <td>ADWYA</td>\n",
       "      <td>9043061</td>\n",
       "      <td>1990-12-19</td>\n",
       "      <td>Flacon</td>\n",
       "      <td>en verre ambre</td>\n",
       "      <td>A</td>\n",
       "      <td>48</td>\n",
       "      <td>INFECTIONS DUES AUX GERMES SENSIBLES NOTAMMENT...</td>\n",
       "      <td>Princeps</td>\n",
       "      <td>Essentiel</td>\n",
       "    </tr>\n",
       "    <tr>\n",
       "      <th>4</th>\n",
       "      <td>ABEVMY</td>\n",
       "      <td>400 mg(25mg/ml)</td>\n",
       "      <td>Solution à diluer pour perfusion</td>\n",
       "      <td>B/1FL/16ml</td>\n",
       "      <td>BEVACIZUMAB</td>\n",
       "      <td>ANTINEOPLASIQUES ET IMMUNOMODULATEURS</td>\n",
       "      <td>ANTINEOPLASIQUES</td>\n",
       "      <td>MYLAN PHARMACEUTICALS PRIVATE LIMITED</td>\n",
       "      <td>20343022H</td>\n",
       "      <td>2021-09-06</td>\n",
       "      <td>Flacon</td>\n",
       "      <td>en verrede type I</td>\n",
       "      <td>A</td>\n",
       "      <td>24</td>\n",
       "      <td>Cancer métastatique du colon ou du rectum\\r- A...</td>\n",
       "      <td>Biosimilaire</td>\n",
       "      <td>Vital</td>\n",
       "    </tr>\n",
       "  </tbody>\n",
       "</table>\n",
       "</div>"
      ],
      "text/plain": [
       "                     Nom           Dosage                               Forme  \\\n",
       "0         5-FLUOROURACIL           250 MG                 Solution injectable   \n",
       "1  5-FLUOROURACILE EBEWE    1000 mg/20 ml  Solution injectable pour perfusion   \n",
       "2  5-FLUOROURACILE EBEWE     500 mg/10 ml  Solution injectable pour perfusion   \n",
       "3             ABBOTICINE           200 MG        Poudre pour suspension orale   \n",
       "4                 ABEVMY  400 mg(25mg/ml)    Solution à diluer pour perfusion   \n",
       "\n",
       "  Présentation            DCI                                      Classe  \\\n",
       "0      B/5/5ML  FLUOROURACILE       ANTINEOPLASIQUES ET IMMUNOMODULATEURS   \n",
       "1    B/1/20 ml  FLUOROURACILE       ANTINEOPLASIQUES ET IMMUNOMODULATEURS   \n",
       "2    B/5/10 ml  FLUOROURACILE       ANTINEOPLASIQUES ET IMMUNOMODULATEURS   \n",
       "3      FL/60ML  ERYTHROMYCINE  ANTIINFECTIEUX GENERAUX A USAGE SYSTEMIQUE   \n",
       "4   B/1FL/16ml    BEVACIZUMAB       ANTINEOPLASIQUES ET IMMUNOMODULATEURS   \n",
       "\n",
       "                         Sous Classe                            Laboratoire  \\\n",
       "0                   ANTINEOPLASIQUES                           EBEWE Pharma   \n",
       "1                   ANTINEOPLASIQUES                           EBEWE Pharma   \n",
       "2                   ANTINEOPLASIQUES                           EBEWE Pharma   \n",
       "3  ANTIBACTERIENS (USAGE SYSTEMIQUE)                                  ADWYA   \n",
       "4                   ANTINEOPLASIQUES  MYLAN PHARMACEUTICALS PRIVATE LIMITED   \n",
       "\n",
       "         AMM    Date AMM Conditionnement primaire  \\\n",
       "0   6943091H  2001-01-20                  Ampoule   \n",
       "1   6943093H  2012-04-30                   Flacon   \n",
       "2   6943092H  2012-04-30                   Flacon   \n",
       "3    9043061  1990-12-19                   Flacon   \n",
       "4  20343022H  2021-09-06                   Flacon   \n",
       "\n",
       "              Spécifocation Conditionnement primaire tableau  \\\n",
       "0                                           en verre       A   \n",
       "1  en verre incolore de type I + bouchon bromobut...       A   \n",
       "2  en verre incolore de type I + bouchon bromobut...       A   \n",
       "3                                     en verre ambre       A   \n",
       "4                                  en verrede type I       A   \n",
       "\n",
       "   Durée de conservation                                        Indications  \\\n",
       "0                     24  - Adénocarcinomes digestifs évolués;\\r- Cancer...   \n",
       "1                     24  - Adénocarcinomes digestifs évolués;\\r- Cancer...   \n",
       "2                     24  - Adénocarcinomes digestifs évolués;\\r- Cancer...   \n",
       "3                     48  INFECTIONS DUES AUX GERMES SENSIBLES NOTAMMENT...   \n",
       "4                     24  Cancer métastatique du colon ou du rectum\\r- A...   \n",
       "\n",
       "          G/P/B       VEIC  \n",
       "0     Générique      Vital  \n",
       "1     Générique      Vital  \n",
       "2     Générique      Vital  \n",
       "3      Princeps  Essentiel  \n",
       "4  Biosimilaire      Vital  "
      ]
     },
     "execution_count": 23,
     "metadata": {},
     "output_type": "execute_result"
    }
   ],
   "source": [
    "import pandas as pd\n",
    "\n",
    "# Lire le fichier Excel\n",
    "df = pd.read_excel('liste_amm.xls')\n",
    "\n",
    "# Convertir en CSV\n",
    "df.to_csv('liste_amm.csv', index=False, encoding='utf-8')\n",
    "\n",
    "# Vérification\n",
    "print(\"Conversion réussie ! Voici les premières lignes du CSV :\")\n",
    "pd.read_csv('liste_amm.csv').head()"
   ]
  },
  {
   "cell_type": "markdown",
   "id": "3798b08e-a2ae-4fd9-a69d-253d60899716",
   "metadata": {
    "id": "3798b08e-a2ae-4fd9-a69d-253d60899716"
   },
   "source": [
    "# Prepare Data"
   ]
  },
  {
   "cell_type": "markdown",
   "id": "7ce6973b-5731-4718-8977-f08e8bfe454b",
   "metadata": {
    "id": "7ce6973b-5731-4718-8977-f08e8bfe454b"
   },
   "source": [
    "## 1. Nettoyage des colonnes :"
   ]
  },
  {
   "cell_type": "markdown",
   "id": "7f065f48-1cb7-442c-9b4d-ba65a9759ebd",
   "metadata": {
    "id": "7f065f48-1cb7-442c-9b4d-ba65a9759ebd"
   },
   "source": [
    "## 2. effacer les colonnes inutiles"
   ]
  },
  {
   "cell_type": "code",
   "execution_count": 27,
   "id": "d41325d3-36ae-4fae-9d0c-0463f2327f6c",
   "metadata": {
    "colab": {
     "base_uri": "https://localhost:8080/"
    },
    "id": "d41325d3-36ae-4fae-9d0c-0463f2327f6c",
    "outputId": "5190dfb6-4262-46df-ea52-cabe23a51afa"
   },
   "outputs": [
    {
     "name": "stdout",
     "output_type": "stream",
     "text": [
      "                     Nom            DCI           Dosage  \\\n",
      "0         5-FLUOROURACIL  FLUOROURACILE           250 MG   \n",
      "1  5-FLUOROURACILE EBEWE  FLUOROURACILE    1000 mg/20 ml   \n",
      "2  5-FLUOROURACILE EBEWE  FLUOROURACILE     500 mg/10 ml   \n",
      "3             ABBOTICINE  ERYTHROMYCINE           200 MG   \n",
      "4                 ABEVMY    BEVACIZUMAB  400 mg(25mg/ml)   \n",
      "\n",
      "                                Forme                            Laboratoire  \\\n",
      "0                 Solution injectable                           EBEWE Pharma   \n",
      "1  Solution injectable pour perfusion                           EBEWE Pharma   \n",
      "2  Solution injectable pour perfusion                           EBEWE Pharma   \n",
      "3        Poudre pour suspension orale                                  ADWYA   \n",
      "4    Solution à diluer pour perfusion  MYLAN PHARMACEUTICALS PRIVATE LIMITED   \n",
      "\n",
      "                                       Classe  Durée de conservation  \\\n",
      "0       ANTINEOPLASIQUES ET IMMUNOMODULATEURS                     24   \n",
      "1       ANTINEOPLASIQUES ET IMMUNOMODULATEURS                     24   \n",
      "2       ANTINEOPLASIQUES ET IMMUNOMODULATEURS                     24   \n",
      "3  ANTIINFECTIEUX GENERAUX A USAGE SYSTEMIQUE                     48   \n",
      "4       ANTINEOPLASIQUES ET IMMUNOMODULATEURS                     24   \n",
      "\n",
      "          G/P/B       VEIC  \n",
      "0     Générique      Vital  \n",
      "1     Générique      Vital  \n",
      "2     Générique      Vital  \n",
      "3      Princeps  Essentiel  \n",
      "4  Biosimilaire      Vital  \n"
     ]
    }
   ],
   "source": [
    "import pandas as pd\n",
    "\n",
    "# Charger les données\n",
    "df = pd.read_excel('liste_amm.xls')\n",
    "\n",
    "# Liste des colonnes à conserver\n",
    "colonnes_a_conserver = ['Nom', 'DCI', 'Dosage', 'Forme','Laboratoire','Classe', 'Durée de conservation', 'G/P/B', 'VEIC']\n",
    "\n",
    "# Supprimer les colonnes non cruciales\n",
    "df = df[colonnes_a_conserver]\n",
    "\n",
    "# Afficher les premières lignes du DataFrame nettoyé\n",
    "print(df.head())"
   ]
  },
  {
   "cell_type": "markdown",
   "id": "d32c1980-53d1-4661-a966-9ec06f661310",
   "metadata": {
    "id": "d32c1980-53d1-4661-a966-9ec06f661310"
   },
   "source": [
    "## Suprimer les doublons"
   ]
  },
  {
   "cell_type": "code",
   "execution_count": 29,
   "id": "1ce502ab-e723-4ebe-808a-58a8fcfb8bd7",
   "metadata": {
    "id": "1ce502ab-e723-4ebe-808a-58a8fcfb8bd7",
    "scrolled": true
   },
   "outputs": [],
   "source": [
    "# Nettoyage des données\n",
    "df = df.drop_duplicates()"
   ]
  },
  {
   "cell_type": "markdown",
   "id": "b45d2d5e-ed97-42fd-b2aa-a551c40ea93e",
   "metadata": {
    "id": "b45d2d5e-ed97-42fd-b2aa-a551c40ea93e"
   },
   "source": [
    "## Gérer les valeurs manquantes"
   ]
  },
  {
   "cell_type": "code",
   "execution_count": 31,
   "id": "e85b71d3-9ebc-443c-b939-4014a6da7e42",
   "metadata": {
    "id": "e85b71d3-9ebc-443c-b939-4014a6da7e42"
   },
   "outputs": [],
   "source": [
    "df['Dosage'] = df['Dosage'].fillna('Inconnu')"
   ]
  },
  {
   "cell_type": "code",
   "execution_count": 32,
   "id": "2b4e3801-84d3-4d2a-9e9c-2bceef06221c",
   "metadata": {
    "id": "2b4e3801-84d3-4d2a-9e9c-2bceef06221c"
   },
   "outputs": [],
   "source": [
    "df['DCI'] = df['DCI'].fillna('Inconnu')"
   ]
  },
  {
   "cell_type": "code",
   "execution_count": 33,
   "id": "2d91f514-2531-4a0a-b256-1ef063c0d4b2",
   "metadata": {
    "id": "2d91f514-2531-4a0a-b256-1ef063c0d4b2"
   },
   "outputs": [],
   "source": [
    "df['G/P/B'] = df['G/P/B'].fillna('Inconnu')"
   ]
  },
  {
   "cell_type": "code",
   "execution_count": 34,
   "id": "4257fd50-8583-4525-896e-2c5e411ca3fc",
   "metadata": {
    "id": "4257fd50-8583-4525-896e-2c5e411ca3fc"
   },
   "outputs": [],
   "source": [
    "df['Classe'] = df['Classe'].fillna('Inconnu')"
   ]
  },
  {
   "cell_type": "code",
   "execution_count": 35,
   "id": "0483258c-d95c-462e-a97e-811f2fb21fdc",
   "metadata": {
    "id": "0483258c-d95c-462e-a97e-811f2fb21fdc"
   },
   "outputs": [],
   "source": [
    "df['VEIC'] = df['VEIC'].fillna('Non classé')"
   ]
  },
  {
   "cell_type": "code",
   "execution_count": 36,
   "id": "f6dc1210-63f8-4138-8121-612444f9ddaa",
   "metadata": {
    "id": "f6dc1210-63f8-4138-8121-612444f9ddaa"
   },
   "outputs": [],
   "source": [
    "df['Durée de conservation'] = df['Durée de conservation'].fillna(-1)"
   ]
  },
  {
   "cell_type": "code",
   "execution_count": 37,
   "id": "_GPAqA-oUNF9",
   "metadata": {
    "colab": {
     "base_uri": "https://localhost:8080/"
    },
    "id": "_GPAqA-oUNF9",
    "outputId": "7000b411-a60e-4833-cce6-8b7499411e20"
   },
   "outputs": [
    {
     "name": "stdout",
     "output_type": "stream",
     "text": [
      "A Overview about the dataset:\n",
      "\n",
      "Rows: 5042\n",
      "\n",
      "Number of features: 9\n",
      "\n",
      "Features:\n",
      "['Nom', 'DCI', 'Dosage', 'Forme', 'Laboratoire', 'Classe', 'Durée de conservation', 'G/P/B', 'VEIC']\n",
      "\n",
      "Missing values: 0\n",
      "\n",
      "Unique values:\n",
      "Nom                      3339\n",
      "DCI                      1087\n",
      "Dosage                   1170\n",
      "Forme                     149\n",
      "Laboratoire               436\n",
      "Classe                     14\n",
      "Durée de conservation      21\n",
      "G/P/B                       3\n",
      "VEIC                        5\n",
      "dtype: int64\n"
     ]
    }
   ],
   "source": [
    "dataoverview(df, \"A Overview about the dataset\")"
   ]
  },
  {
   "cell_type": "markdown",
   "id": "af907da1-c80f-418c-ae4b-9d279e5797a8",
   "metadata": {
    "id": "af907da1-c80f-418c-ae4b-9d279e5797a8"
   },
   "source": [
    "## Standarlization des colonnes"
   ]
  },
  {
   "cell_type": "code",
   "execution_count": 39,
   "id": "c7140ba7-5cd9-47ac-8411-b96b421862e2",
   "metadata": {
    "id": "c7140ba7-5cd9-47ac-8411-b96b421862e2"
   },
   "outputs": [],
   "source": [
    "df['Nom'] = df['Nom'].str.upper().str.strip()  # Standardiser les noms\n",
    "df['DCI'] = df['DCI'].str.upper().str.strip()  # Standardiser la DCI\n",
    "df['Dosage'] = df['Dosage'].str.upper().str.strip()  # Standardiser le dosage\n",
    "df['Forme'] = df['Forme'].str.upper().str.strip()  # Standardiser la forme\n",
    "df['Classe'] = df['Classe'].str.upper().str.strip()  # Standardiser la classe"
   ]
  },
  {
   "cell_type": "code",
   "execution_count": 40,
   "id": "8b349528-f035-4652-a473-9fd11dae1426",
   "metadata": {
    "colab": {
     "base_uri": "https://localhost:8080/"
    },
    "id": "8b349528-f035-4652-a473-9fd11dae1426",
    "outputId": "30817e95-d823-4e8c-bd81-cdd4411fd931"
   },
   "outputs": [
    {
     "data": {
      "text/plain": [
       "Index(['Nom', 'DCI', 'Dosage', 'Forme', 'Laboratoire', 'Classe',\n",
       "       'Durée de conservation', 'G/P/B', 'VEIC'],\n",
       "      dtype='object')"
      ]
     },
     "execution_count": 40,
     "metadata": {},
     "output_type": "execute_result"
    }
   ],
   "source": [
    "df.columns\n"
   ]
  },
  {
   "cell_type": "markdown",
   "id": "e8116468-d0b2-4cf5-a70e-a7e6185f76eb",
   "metadata": {
    "id": "e8116468-d0b2-4cf5-a70e-a7e6185f76eb"
   },
   "source": [
    "# Feature Engineering"
   ]
  },
  {
   "cell_type": "code",
   "execution_count": 42,
   "id": "MKeVBv0nsOQp",
   "metadata": {
    "id": "MKeVBv0nsOQp"
   },
   "outputs": [],
   "source": [
    "# Nettoyage et préparation des données\n",
    "df['Caractéristiques'] = df['DCI'] + ' ' + df['Dosage'] + ' ' + df['Forme'] + ' ' + df['Classe']\n",
    "df['Caractéristiques'] = df['Caractéristiques'].str.lower().str.strip()"
   ]
  },
  {
   "cell_type": "code",
   "execution_count": 43,
   "id": "15535608-0951-4a8e-bcdd-d78847666ee9",
   "metadata": {
    "id": "15535608-0951-4a8e-bcdd-d78847666ee9"
   },
   "outputs": [],
   "source": [
    "# df['Caractéristiques'] = df['DCI'] + ' ' + df['Dosage'] + ' ' + df['Forme'] + ' ' + df['Classe']"
   ]
  },
  {
   "cell_type": "code",
   "execution_count": 44,
   "id": "xJWx34AMmfV3",
   "metadata": {
    "id": "xJWx34AMmfV3"
   },
   "outputs": [],
   "source": [
    "# Vérification/réintégration de DCI\n",
    "if 'DCI' not in df.columns:\n",
    "    df = pd.read_excel('liste_amm.xls')[['Nom', 'DCI', 'Laboratoire', 'Durée de conservation', 'G/P/B', 'VEIC', 'Caractéristiques']]\n",
    "    df['Caractéristiques'] = df['DCI'] + ' ' + df['Caractéristiques']  # Fusion DCI + autres caractéristiques\n"
   ]
  },
  {
   "cell_type": "code",
   "execution_count": 45,
   "id": "jdVEnkyIQSyC",
   "metadata": {
    "id": "jdVEnkyIQSyC"
   },
   "outputs": [],
   "source": [
    "# # Supprimer les colonnes d'origine\n",
    "# df = df.drop(columns=['DCI', 'Dosage', 'Forme', 'Classe'])\n",
    "\n",
    "# # Afficher le DataFrame mis à jour\n",
    "# df.head()"
   ]
  },
  {
   "cell_type": "markdown",
   "id": "1dac36a3-518c-47b6-9a68-ff1ac4e6473f",
   "metadata": {
    "id": "1dac36a3-518c-47b6-9a68-ff1ac4e6473f"
   },
   "source": [
    "- **TF-IDF** converts text in the `Caractéristiques` column into numerical features by tokenizing words and calculating their importance (TF-IDF score).  \n",
    "- Each unique word becomes a column, resulting in hundreds or thousands of columns depending on the vocabulary size.  \n",
    "- This matrix helps analyze text data for tasks like similarity calculation, clustering, or machine learning."
   ]
  },
  {
   "cell_type": "code",
   "execution_count": 48,
   "id": "Xw44JuFiunMM",
   "metadata": {
    "id": "Xw44JuFiunMM"
   },
   "outputs": [],
   "source": [
    "from sklearn.feature_extraction.text import TfidfVectorizer\n",
    "\n",
    "# Vectorisation des caractéristiques avec TF-IDF\n",
    "tfidf = TfidfVectorizer(stop_words='english')\n",
    "tfidf_matrix = tfidf.fit_transform(df['Caractéristiques'])"
   ]
  },
  {
   "cell_type": "code",
   "execution_count": 49,
   "id": "90prSCWJuycP",
   "metadata": {
    "id": "90prSCWJuycP"
   },
   "outputs": [],
   "source": [
    "from sklearn.metrics.pairwise import cosine_similarity\n",
    "\n",
    "# Calcul de la similarité cosinus\n",
    "cosine_sim = cosine_similarity(tfidf_matrix, tfidf_matrix)"
   ]
  },
  {
   "cell_type": "code",
   "execution_count": 50,
   "id": "0161O2D2v8TD",
   "metadata": {
    "colab": {
     "base_uri": "https://localhost:8080/"
    },
    "id": "0161O2D2v8TD",
    "outputId": "4913b2c0-dcb8-480b-c731-536596a794ad"
   },
   "outputs": [
    {
     "name": "stdout",
     "output_type": "stream",
     "text": [
      "Recommandations pour ACARLYSE: ['ACARLYSE', 'ALPHA-GLUCOFF', 'DIABICOR']\n"
     ]
    }
   ],
   "source": [
    "# Fonction pour obtenir des recommandations basées sur les caractéristiques\n",
    "def get_recommendations(nom, cosine_sim):\n",
    "    recommendations = []\n",
    "    if nom in df['Nom'].values:\n",
    "        idx = df[df['Nom'] == nom].index[0]\n",
    "        sim_scores = list(enumerate(cosine_sim[idx]))\n",
    "        sim_scores = sorted(sim_scores, key=lambda x: x[1], reverse=True)[1:4]  # Top 10\n",
    "        med_indices = [i[0] for i in sim_scores]\n",
    "        recommendations = df['Nom'].iloc[med_indices].tolist()\n",
    "    else:\n",
    "        recommendations.append(\"Médicament non trouvé.\")\n",
    "    return recommendations\n",
    "\n",
    "# Exemple d'utilisation\n",
    "medicament = 'ACARLYSE'\n",
    "recommendations = get_recommendations(medicament, cosine_sim)\n",
    "print(\"Recommandations pour {}: {}\".format(medicament, recommendations))"
   ]
  },
  {
   "cell_type": "markdown",
   "id": "033787e3-5805-4efc-bfbe-a3ed0cd4ae3c",
   "metadata": {
    "id": "2JY6137807dH"
   },
   "source": [
    "### recommendation system second version"
   ]
  },
  {
   "cell_type": "code",
   "execution_count": null,
   "id": "417f6d8c-8170-49d5-bd82-71d2f39c567b",
   "metadata": {},
   "outputs": [],
   "source": [
    "# Fusionner les caractéristiques importantes\n",
    "df[\"Caractéristiques\"] = (\n",
    "    df[\"DCI\"] + \" \" +\n",
    "    df[\"Classe\"] + \" \" +\n",
    "    df[\"Sous Classe\"] + \" \" +\n",
    "    df[\"Forme\"] + \" \" +\n",
    "    df[\"Indications\"] + \" \" +\n",
    "    df[\"G/P/B\"]\n",
    ")"
   ]
  },
  {
   "cell_type": "code",
   "execution_count": null,
   "id": "dbe5861e-b2bc-44ca-85f0-2a6c2baaa4aa",
   "metadata": {},
   "outputs": [],
   "source": [
    "from sentence_transformers import SentenceTransformer\n",
    "\n",
    "# Charger un modèle BERT optimisé pour la similarité sémantique\n",
    "model_bert = SentenceTransformer(\"distilbert-base-nli-mean-tokens\")\n",
    "\n",
    "# Convertir les descriptions en embeddings\n",
    "df[\"bert_embedding\"] = list(model_bert.encode(df[\"Caractéristiques\"].tolist(), convert_to_tensor=False))\n"
   ]
  },
  {
   "cell_type": "code",
   "execution_count": null,
   "id": "a27e9d23-b917-44fb-8bb7-ef35c729ed48",
   "metadata": {},
   "outputs": [],
   "source": [
    "from sklearn.metrics.pairwise import cosine_similarity\n",
    "\n",
    "# Transformer les embeddings en matrice numpy\n",
    "vectors = np.stack(df[\"bert_embedding\"].values)\n",
    "\n",
    "# Calculer la similarité cosinus entre les médicaments\n",
    "similarity_matrix = cosine_similarity(vectors)\n"
   ]
  },
  {
   "cell_type": "code",
   "execution_count": null,
   "id": "526eb590-0ac0-496c-b26f-250462a609a1",
   "metadata": {},
   "outputs": [],
   "source": [
    "def recommander_medicament(nom_medicament, df, similarity_matrix, top_n=5):\n",
    "    try:\n",
    "        index = df[df[\"Nom\"] == nom_medicament].index[0]\n",
    "    except IndexError:\n",
    "        return \"Médicament introuvable\"\n",
    "\n",
    "    scores = list(enumerate(similarity_matrix[index]))\n",
    "    scores = sorted(scores, key=lambda x: x[1], reverse=True)\n",
    "\n",
    "    indices_medicaments = [i[0] for i in scores[1:top_n+1]]  # Exclure le médicament lui-même\n",
    "    return df.iloc[indices_medicaments][[\"Nom\", \"DCI\", \"Dosage\", \"Classe\", \"Indications\"]]\n",
    "\n",
    "# Exemple d'utilisation\n",
    "print(recommander_medicament(\"ABEVMY\", df, similarity_matrix))\n"
   ]
  }
 ],
 "metadata": {
  "accelerator": "GPU",
  "colab": {
   "gpuType": "T4",
   "provenance": []
  },
  "kernelspec": {
   "display_name": "Python 3 (ipykernel)",
   "language": "python",
   "name": "python3"
  },
  "language_info": {
   "codemirror_mode": {
    "name": "ipython",
    "version": 3
   },
   "file_extension": ".py",
   "mimetype": "text/x-python",
   "name": "python",
   "nbconvert_exporter": "python",
   "pygments_lexer": "ipython3",
   "version": "3.12.3"
  }
 },
 "nbformat": 4,
 "nbformat_minor": 5
}
