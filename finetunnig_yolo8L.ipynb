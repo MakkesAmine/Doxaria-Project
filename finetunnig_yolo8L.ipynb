{
 "cells": [
  {
   "cell_type": "markdown",
   "metadata": {
    "id": "oKtB0KrT7UdU"
   },
   "source": [
    "# Étape 0 : Installation des dépendances"
   ]
  },
  {
   "cell_type": "code",
   "execution_count": null,
   "metadata": {},
   "outputs": [],
   "source": [
    "!pip install -U \\\n",
    "  ultralytics>=8.1.0 \\\n",
    "  roboflow \\\n",
    "  transformers \\\n",
    "  datasets \\\n",
    "  torchvision \\\n",
    "  paddlepaddle \\\n",
    "  paddleocr \\\n",
    "  spacy \\\n",
    "  fuzzywuzzy \\\n",
    "  opencv-python-headless\n",
    "\n",
    "!python -m spacy download fr_core_news_md\n",
    "!pip uninstall -y opencv-python\n",
    "\n",
    "!pip install -U opencv-python-headless\n"
   ]
  },
  {
   "cell_type": "code",
   "execution_count": null,
   "metadata": {},
   "outputs": [],
   "source": [
    "import os\n",
    "import shutil\n",
    "import cv2\n",
    "import numpy as np\n",
    "import pandas as pd\n",
    "from ultralytics import YOLO\n",
    "from ultralytics.nn.tasks import DetectionModel\n",
    "from paddleocr import PaddleOCR\n",
    "from PIL import Image\n",
    "import torch\n",
    "from torch.utils.data import Dataset, DataLoader\n",
    "from transformers import TrOCRProcessor, VisionEncoderDecoderModel, Seq2SeqTrainer, Seq2SeqTrainingArguments\n",
    "from fuzzywuzzy import process\n",
    "import spacy\n",
    "from datasets import load_dataset\n",
    "from roboflow import Roboflow\n",
    "import matplotlib.pyplot as plt"
   ]
  },
  {
   "cell_type": "markdown",
   "metadata": {
    "id": "NVBSgVe2VxY5"
   },
   "source": [
    "# Étape 2 : Téléchargement des données"
   ]
  },
  {
   "cell_type": "code",
   "execution_count": null,
   "metadata": {},
   "outputs": [],
   "source": [
    "from google.colab import drive\n",
    "drive.mount('/content/drive')"
   ]
  },
  {
   "cell_type": "code",
   "execution_count": null,
   "metadata": {},
   "outputs": [],
   "source": [
    "# Définir le chemin de base\n",
    "DATASET_PATH = \"/content/drive/MyDrive/pi_project_3\"\n",
    "os.makedirs(DATASET_PATH, exist_ok=True)\n"
   ]
  },
  {
   "cell_type": "code",
   "execution_count": null,
   "metadata": {},
   "outputs": [],
   "source": [
    "# Téléchargement des données via Roboflow\n",
    "\n",
    "\n",
    "from roboflow import Roboflow\n",
    "\n",
    "rf = Roboflow(api_key=\"m3zcgsb8zN6fHOST8Swy\")\n",
    "project = rf.workspace(\"doxariaproject\").project(\"eya_-2bh\")\n",
    "version = project.version(6)\n",
    "dataset = version.download(\"yolov8\")\n",
    "\n",
    "\n",
    "# Copier les données dans le dossier de travail\n",
    "dataset_dir = os.path.join(DATASET_PATH, \"datasets\")\n",
    "os.makedirs(dataset_dir, exist_ok=True)\n",
    "shutil.copytree(dataset.location, dataset_dir, dirs_exist_ok=True)\n",
    "\n"
   ]
  },
  {
   "cell_type": "markdown",
   "metadata": {
    "id": "zj5ZUUlY8GFN"
   },
   "source": [
    "# Création du fichier data.yaml"
   ]
  },
  {
   "cell_type": "code",
   "execution_count": null,
   "metadata": {},
   "outputs": [],
   "source": [
    "\n",
    "YOLO_DATA_YAML = os.path.join(DATASET_PATH, \"data.yaml\")\n",
    "yaml_content = f\"\"\"train: {os.path.join(dataset_dir, 'train/images')}\n",
    "val: {os.path.join(dataset_dir, 'valid/images')}\n",
    "test: {os.path.join(dataset_dir, 'test/images')}\n",
    "\n",
    "nc: 2\n",
    "names:\n",
    "  0: dosage\n",
    "  1: medicament\n",
    "\"\"\"\n",
    "with open(YOLO_DATA_YAML, 'w') as f:\n",
    "    f.write(yaml_content)\n",
    "\n",
    "print(\"Contenu de data.yaml :\")\n",
    "!cat {YOLO_DATA_YAML}"
   ]
  },
  {
   "cell_type": "markdown",
   "metadata": {
    "id": "FNQvH-JD8ftv"
   },
   "source": [
    "## Verification des dossiers"
   ]
  },
  {
   "cell_type": "code",
   "execution_count": null,
   "metadata": {},
   "outputs": [],
   "source": [
    "import os\n",
    "\n",
    "DATASET_PATH = \"/content/drive/MyDrive/pi_project_3/datasets\"\n",
    "for split in ['train', 'valid', 'test']:\n",
    "    img_dir = os.path.join(DATASET_PATH, split, 'images')\n",
    "    label_dir = os.path.join(DATASET_PATH, split, 'labels')\n",
    "    print(f\"\\nVérification du dossier {split}:\")\n",
    "    print(f\"Images : {len([f for f in os.listdir(img_dir) if f.endswith(('.jpg', '.jpeg', '.png'))])}\")\n",
    "    print(f\"Labels : {len([f for f in os.listdir(label_dir) if f.endswith('.txt')])}\")"
   ]
  },
  {
   "cell_type": "markdown",
   "metadata": {
    "id": "VepFI339WDFO"
   },
   "source": [
    "# Étape 4 : Entraînement de YOLOv8l"
   ]
  },
  {
   "cell_type": "code",
   "execution_count": null,
   "metadata": {},
   "outputs": [],
   "source": [
    "pip install torch torchvision torchaudio --index-url https://download.pytorch.org/whl/cu12"
   ]
  },
  {
   "cell_type": "code",
   "execution_count": null,
   "metadata": {},
   "outputs": [],
   "source": [
    "import torch\n",
    "torch.cuda.empty_cache()\n"
   ]
  },
  {
   "cell_type": "code",
   "execution_count": null,
   "metadata": {},
   "outputs": [],
   "source": [
    "from ultralytics import YOLO\n",
    "\n",
    "# Load the pre-trained YOLOv8 model\n",
    "model = YOLO('yolov8l.pt')  # Large model, suitable for handwritten quality\n",
    "\n",
    "# Train the model\n",
    "model.train(\n",
    "    data='/content/drive/MyDrive/pi_project_3/data.yaml',\n",
    "    epochs=60,   # 60 epochs as desired\n",
    "    batch=16,\n",
    "    lr0=0.001,\n",
    "    lrf=0.1,\n",
    "    momentum=0.937,\n",
    "    weight_decay=0.0005,\n",
    "    warmup_epochs=5,\n",
    "    optimizer='AdamW',\n",
    "    degrees=5,\n",
    "    translate=0.1,\n",
    "    scale=0.7,\n",
    "    shear=2.0,\n",
    "    hsv_h=0.005,\n",
    "    hsv_s=0.5,\n",
    "    hsv_v=0.2,\n",
    "    flipud=0.0,\n",
    "    fliplr=0.1,\n",
    "    name='yolo_medicament_dosage_60epochs'\n",
    ")\n",
    "\n",
    "# Evaluate the model on the test set\n",
    "metrics = model.val(data='/content/drive/MyDrive/pi_project_3/data.yaml', split='test')\n",
    "print(f\"mAP@50: {metrics.box.map50:.3f}, mAP@50:95: {metrics.box.map:.3f}\")\n"
   ]
  }
 ],
 "metadata": {
  "language_info": {
   "name": "python"
  }
 },
 "nbformat": 4,
 "nbformat_minor": 0
}
