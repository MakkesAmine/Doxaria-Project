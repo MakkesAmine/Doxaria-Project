{
 "cells": [
  {
   "cell_type": "markdown",
   "metadata": {
    "id": "WTb5PWf4FI6_"
   },
   "source": [
    "### Import dataset from robflow"
   ]
  },
  {
   "cell_type": "markdown",
   "metadata": {},
   "source": [
    "# Model Detection Performance"
   ]
  },
  {
   "cell_type": "code",
   "execution_count": null,
   "metadata": {},
   "outputs": [],
   "source": [
    "import IPython\n",
    "app = IPython.Application.instance()\n",
    "app.kernel.do_shutdown(True)"
   ]
  },
  {
   "cell_type": "code",
   "execution_count": null,
   "metadata": {},
   "outputs": [],
   "source": [
    "!pip install roboflow\n",
    "\n",
    "from roboflow import Roboflow\n",
    "rf = Roboflow(api_key=\"m3zcgsb8zN6fHOST8Swy\")\n",
    "project = rf.workspace(\"doxariaproject\").project(\"eya_-2bh\")\n",
    "version = project.version(9)\n",
    "dataset = version.download(\"yolov8\")\n"
   ]
  },
  {
   "cell_type": "markdown",
   "metadata": {
    "id": "9RsqF237FPXh"
   },
   "source": [
    "## Install HaggingFace And Libraries"
   ]
  },
  {
   "cell_type": "code",
   "execution_count": null,
   "metadata": {},
   "outputs": [],
   "source": [
    "!git clone https://huggingface.co/toumix/yolo-medicament-dosage"
   ]
  },
  {
   "cell_type": "code",
   "execution_count": null,
   "metadata": {},
   "outputs": [],
   "source": [
    "!pip install ultralytics paddleocr opencv-python-headless matplotlib --quiet"
   ]
  },
  {
   "cell_type": "code",
   "execution_count": null,
   "metadata": {},
   "outputs": [],
   "source": [
    "!pip install paddlepaddle\n",
    "!pip install paddleocr"
   ]
  },
  {
   "cell_type": "markdown",
   "metadata": {
    "id": "FQaTKFL6FXSU"
   },
   "source": [
    "## Mount Drive"
   ]
  },
  {
   "cell_type": "code",
   "execution_count": null,
   "metadata": {},
   "outputs": [],
   "source": [
    "from google.colab import drive\n",
    "drive.mount('/content/drive')"
   ]
  },
  {
   "cell_type": "markdown",
   "metadata": {
    "id": "2Dt3q2XbFbcW"
   },
   "source": [
    "## Runs File"
   ]
  },
  {
   "cell_type": "code",
   "execution_count": null,
   "metadata": {},
   "outputs": [],
   "source": [
    "import os\n",
    "\n",
    "path = \"/content/drive/MyDrive/pi_project_3/datasets/runs\"\n",
    "if os.path.exists(path):\n",
    "    rois_files = os.listdir(path)\n",
    "    print(rois_files)\n",
    "else:\n",
    "    print(\"❌ Chemin introuvable : \", path)"
   ]
  },
  {
   "cell_type": "markdown",
   "metadata": {
    "id": "YdFrKzWTFft4"
   },
   "source": []
  },
  {
   "cell_type": "code",
   "execution_count": null,
   "metadata": {},
   "outputs": [],
   "source": [
    "import pandas as pd\n",
    "import matplotlib.pyplot as plt\n",
    "import seaborn as sns\n",
    "\n",
    "# Charger les métriques YOLOv8 depuis results.csv\n",
    "csv_path = \"/content/drive/MyDrive/pi_project_3/datasets/runs/results.csv\"\n",
    "results = pd.read_csv(csv_path)\n",
    "\n",
    "# Vérifier les colonnes exactes\n",
    "print(results.columns)\n",
    "\n",
    "# Style seaborn\n",
    "sns.set(style=\"whitegrid\")\n",
    "\n",
    "# Tracer Précision, Rappel et mAP50\n",
    "plt.figure(figsize=(12, 6))\n",
    "plt.plot(results['epoch'], results['metrics/precision(B)'], label='Precision')\n",
    "plt.plot(results['epoch'], results['metrics/recall(B)'], label='Recall')\n",
    "plt.plot(results['epoch'], results['metrics/mAP50(B)'], label='mAP50')  # <= correct !\n",
    "\n",
    "plt.title('📊 Évolution des performances - YOLOv8L')\n",
    "plt.xlabel('Époque')\n",
    "plt.ylabel('Score')\n",
    "plt.legend()\n",
    "plt.grid(True)\n",
    "plt.show()\n"
   ]
  },
  {
   "cell_type": "code",
   "execution_count": null,
   "metadata": {},
   "outputs": [],
   "source": [
    "plt.figure(figsize=(12, 6))\n",
    "plt.plot(results['epoch'], results['train/box_loss'], label='Train Box Loss')\n",
    "plt.plot(results['epoch'], results['train/cls_loss'], label='Train Class Loss')\n",
    "plt.plot(results['epoch'], results['train/dfl_loss'], label='Train DFL Loss')\n",
    "plt.plot(results['epoch'], results['val/box_loss'], label='Val Box Loss', linestyle='--')\n",
    "plt.plot(results['epoch'], results['val/cls_loss'], label='Val Class Loss', linestyle='--')\n",
    "plt.plot(results['epoch'], results['val/dfl_loss'], label='Val DFL Loss', linestyle='--')\n",
    "\n",
    "plt.title('📉 Évolution des Losses (Train vs Validation)')\n",
    "plt.xlabel('Époque')\n",
    "plt.ylabel('Loss')\n",
    "plt.legend()\n",
    "plt.grid(True)\n",
    "plt.show()\n"
   ]
  },
  {
   "cell_type": "markdown",
   "metadata": {
    "id": "z_b8XswLDNDd"
   },
   "source": [
    "3️⃣ Courbe des métriques d'évaluation"
   ]
  },
  {
   "cell_type": "code",
   "execution_count": null,
   "metadata": {},
   "outputs": [],
   "source": [
    "import matplotlib.pyplot as plt\n",
    "plt.figure(figsize=(12, 6))\n",
    "plt.plot(results['epoch'], results['metrics/precision(B)'], label='Precision')\n",
    "plt.plot(results['epoch'], results['metrics/recall(B)'], label='Recall')\n",
    "plt.plot(results['epoch'], results['metrics/mAP50(B)'], label='mAP50')\n",
    "plt.plot(results['epoch'], results['metrics/mAP50-95(B)'], label='mAP50-95')\n",
    "\n",
    "plt.title('📊 Évolution des Metrics - YOLOv8L')\n",
    "plt.xlabel('Époque')\n",
    "plt.ylabel('Score')\n",
    "plt.legend()\n",
    "plt.grid(True)\n",
    "plt.show()\n"
   ]
  },
  {
   "cell_type": "markdown",
   "metadata": {
    "id": "2oJCdctWD1GD"
   },
   "source": [
    "4️⃣ Heatmap de Corrélation des Colonnes"
   ]
  },
  {
   "cell_type": "code",
   "execution_count": null,
   "metadata": {},
   "outputs": [],
   "source": [
    "plt.figure(figsize=(14, 10))\n",
    "sns.heatmap(results.corr(), annot=True, cmap='coolwarm', fmt='.2f')\n",
    "plt.title('🔥 Corrélation entre les variables d\\'apprentissage')\n",
    "plt.show()\n"
   ]
  },
  {
   "cell_type": "markdown",
   "metadata": {
    "id": "uJDhE9AzD_Cw"
   },
   "source": [
    "5️⃣ Comparatif BoxPlot des Losses"
   ]
  },
  {
   "cell_type": "code",
   "execution_count": null,
   "metadata": {},
   "outputs": [],
   "source": [
    "plt.figure(figsize=(10, 6))\n",
    "sns.boxplot(data=results[['train/box_loss', 'train/cls_loss', 'train/dfl_loss',\n",
    "                          'val/box_loss', 'val/cls_loss', 'val/dfl_loss']])\n",
    "plt.xticks(rotation=45)\n",
    "plt.title('📦 Distribution des Losses')\n",
    "plt.show()\n"
   ]
  },
  {
   "cell_type": "markdown",
   "metadata": {
    "id": "ysrDQmo3nduZ"
   },
   "source": []
  },
  {
   "cell_type": "markdown",
   "metadata": {
    "id": "RVD02mRPEOIa"
   },
   "source": [
    "💡 Bonus : Tableau résumé"
   ]
  },
  {
   "cell_type": "code",
   "execution_count": null,
   "metadata": {},
   "outputs": [],
   "source": [
    "print(\"Résumé des performances :\\n\")\n",
    "print(results[['metrics/precision(B)', 'metrics/recall(B)', 'metrics/mAP50(B)', 'metrics/mAP50-95(B)']].describe())\n"
   ]
  },
  {
   "cell_type": "markdown",
   "metadata": {
    "id": "jnJ3a9uOa8Cf"
   },
   "source": [
    "💡 Étape 1 — Détection YOLO + Annotation des Images"
   ]
  },
  {
   "cell_type": "code",
   "execution_count": null,
   "metadata": {},
   "outputs": [],
   "source": [
    "pip install easyocr\n"
   ]
  },
  {
   "cell_type": "code",
   "execution_count": null,
   "metadata": {},
   "outputs": [],
   "source": [
    "import pandas as pd\n",
    "\n",
    "df = pd.read_csv(\"/content/resultats_annotes/resultats_ocr.csv\")\n",
    "aucun_texte_count = df[df['texte_ocr'] == \"Aucun texte\"].shape[0]\n",
    "total_count = df.shape[0]\n",
    "proportion = (aucun_texte_count / total_count) * 100\n",
    "\n",
    "print(f\"Nombre total de crops traités : {total_count}\")\n",
    "print(f\"Nombre de crops sans texte prédit ('Aucun texte') : {aucun_texte_count}\")\n",
    "print(f\"Proportion : {proportion:.2f}%\")\n",
    "\n"
   ]
  },
  {
   "cell_type": "code",
   "execution_count": null,
   "metadata": {},
   "outputs": [],
   "source": [
    "import pandas as pd\n",
    "import matplotlib.pyplot as plt  # <-- Ajout de l'import\n",
    "\n",
    "# Charger le fichier CSV\n",
    "df = pd.read_csv(\"/content/resultats_annotes/resultats_ocr.csv\")\n",
    "\n",
    "# Compter le nombre de prédictions \"Aucun texte\"\n",
    "aucun_texte_count = df[df['texte_ocr'] == \"Aucun texte\"].shape[0]\n",
    "\n",
    "# Compter le total de prédictions\n",
    "total_count = df.shape[0]\n",
    "\n",
    "# Créer les données pour le graphique\n",
    "labels = ['Aucun texte', 'Texte présent']\n",
    "sizes = [aucun_texte_count, total_count - aucun_texte_count]\n",
    "colors = ['#ff9999', '#66b3ff']\n",
    "explode = (0.1, 0)  # Mettre en avant \"Aucun texte\"\n",
    "\n",
    "# Créer le graphique à secteurs\n",
    "plt.figure(figsize=(8, 6))\n",
    "plt.pie(sizes, explode=explode, labels=labels, colors=colors,\n",
    "        autopct='%1.1f%%', shadow=True, startangle=90)\n",
    "plt.axis('equal')  # Pour que le pie chart soit un cercle\n",
    "plt.title(\"Proportion de textes prédits\")\n",
    "plt.show()\n"
   ]
  },
  {
   "cell_type": "markdown",
   "metadata": {
    "id": "PO_n3ISDV3Q-"
   },
   "source": [
    "✅ 1️⃣ Lister les images qui posent souvent problème (beaucoup de \"Aucun texte\")"
   ]
  },
  {
   "cell_type": "markdown",
   "metadata": {
    "id": "clqWfKYaV7T5"
   },
   "source": [
    "✅ 2️⃣ Logger les crops où l’OCR a échoué même après rotation\n",
    "Dans ton code d’origine, tu peux déjà ajouter un log pendant la boucle :\n",
    "\n",
    "Modifie la partie OCR comme ça :"
   ]
  }
 ],
 "metadata": {
  "language_info": {
   "name": "python"
  }
 },
 "nbformat": 4,
 "nbformat_minor": 0
}
