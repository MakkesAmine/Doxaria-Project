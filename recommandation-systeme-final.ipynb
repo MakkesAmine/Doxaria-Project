{
 "cells": [
  {
   "cell_type": "code",
   "execution_count": null,
   "metadata": {},
   "outputs": [],
   "source": [
    "!pip install sentence-transformers\n",
    "!pip install pandas scikit-learn matplotlib seaborn\n"
   ]
  },
  {
   "cell_type": "markdown",
   "metadata": {
    "id": "6TdTirmlkGrq"
   },
   "source": [
    "# ----------------------------\n",
    "# SECTION 1: Imports & Setup\n",
    "# ----------------------------"
   ]
  },
  {
   "cell_type": "code",
   "execution_count": null,
   "metadata": {},
   "outputs": [],
   "source": [
    "\n",
    "import pandas as pd\n",
    "import numpy as np\n",
    "import matplotlib.pyplot as plt\n",
    "import seaborn as sns\n",
    "import torch\n",
    "from transformers import AutoTokenizer, AutoModel\n",
    "from sklearn.metrics.pairwise import cosine_similarity\n",
    "import umap\n",
    "import re\n",
    "import joblib\n",
    "from sentence_transformers import SentenceTransformer, util\n"
   ]
  },
  {
   "cell_type": "markdown",
   "metadata": {
    "id": "vPnUNAShkFDH"
   },
   "source": [
    "# ----------------------------\n",
    "# SECTION 2: Data Loading\n",
    "# ----------------------------"
   ]
  },
  {
   "cell_type": "code",
   "execution_count": null,
   "metadata": {},
   "outputs": [],
   "source": [
    "# Load your CSV file\n",
    "df = pd.read_csv(\"liste_amm.csv\")\n",
    "\n",
    "# Show a preview\n",
    "print(\"Dataset preview:\")\n",
    "display(df[['Nom', 'DCI', 'Classe', 'Indications', 'Dosage']].head(3))\n",
    "\n",
    "# Plotting the top 10 therapeutic classes\n",
    "plt.figure(figsize=(10, 5))\n",
    "df['Classe'].value_counts().head(10).plot(kind='barh')\n",
    "plt.title('Top 10 Therapeutic Classes')\n",
    "plt.xlabel('Number of Drugs')\n",
    "plt.show()\n",
    "\n"
   ]
  },
  {
   "cell_type": "code",
   "execution_count": null,
   "metadata": {},
   "outputs": [],
   "source": [
    "df.head()"
   ]
  },
  {
   "cell_type": "markdown",
   "metadata": {
    "id": "GdD3WvyrkB4N"
   },
   "source": [
    "# ----------------------------\n",
    "# SECTION 3: Feature Engineering\n",
    "# ----------------------------"
   ]
  },
  {
   "cell_type": "code",
   "execution_count": null,
   "metadata": {},
   "outputs": [],
   "source": [
    "print(\"\\nEngineering features...\")\n",
    "\n",
    "# --- 1. Extracting the dose ---\n",
    "def extract_dose(dosage):\n",
    "    if isinstance(dosage, str):\n",
    "        match = re.search(r'(\\d+(?:\\.\\d+)?)\\s*mg', dosage, re.IGNORECASE)\n",
    "        return float(match.group(1)) if match else np.nan\n",
    "    return np.nan\n",
    "\n",
    "df['Dose_mg'] = df['Dosage'].apply(extract_dose)\n",
    "\n",
    "# --- 2. Detecting biological drugs ---\n",
    "BIOLOGIC_KEYWORDS = r'\\b(MAB|ZUMA|CEPT|CPT|KIN)\\b'\n",
    "df['Biologic'] = df['DCI'].fillna('').str.contains(BIOLOGIC_KEYWORDS, case=False, regex=True)\n",
    "\n",
    "# --- 3. Normalizing the route of administration ---\n",
    "ADMIN_ROUTE_MAPPING = {\n",
    "    'SOLUTION INJECTABLE': 'Intravenous (IV)',\n",
    "    'COMPRIMÉ': 'Oral',\n",
    "    'GEL': 'Topical',\n",
    "    'SIROP': 'Oral',\n",
    "    'POMMADE': 'Topical',\n",
    "    'POUDRE': 'Other',\n",
    "    'CAPSULE': 'Oral'\n",
    "}\n",
    "df['Admin_Route'] = df['Forme'].str.upper().map(ADMIN_ROUTE_MAPPING).fillna('Unknown')\n"
   ]
  },
  {
   "cell_type": "markdown",
   "metadata": {
    "id": "d2K50DLuj9hM"
   },
   "source": [
    "# ----------------------------\n",
    "# SECTION 3.1: Smart NaN Imputation\n",
    "# ----------------------------"
   ]
  },
  {
   "cell_type": "code",
   "execution_count": null,
   "metadata": {},
   "outputs": [],
   "source": [
    "\n",
    "\n",
    "from sklearn.feature_extraction.text import TfidfVectorizer\n",
    "from sklearn.metrics.pairwise import cosine_similarity\n",
    "\n",
    "print(\"\\nImputing missing values in low-memory mode...\")\n",
    "\n",
    "def smart_fill_low_memory(df, target_column, text_columns):\n",
    "    df_filled = df.copy()\n",
    "    missing_idx = df[df[target_column].isna()].index\n",
    "\n",
    "    # Create the text corpus\n",
    "    corpus = df[text_columns].fillna('').agg(' '.join, axis=1)\n",
    "\n",
    "    # TF-IDF vectorizer\n",
    "    vectorizer = TfidfVectorizer()\n",
    "    tfidf_matrix = vectorizer.fit_transform(corpus)\n",
    "\n",
    "    for idx in missing_idx:\n",
    "        # Embedding of the drug with NaN\n",
    "        tfidf_vector = tfidf_matrix[idx]\n",
    "\n",
    "        # Compare only with drugs that have non-NaN target values\n",
    "        valid_idx = df[df[target_column].notna()].index\n",
    "        valid_vectors = tfidf_matrix[valid_idx]\n",
    "\n",
    "        # Calculate similarity (lightweight: 1 against a few rows)\n",
    "        similarities = cosine_similarity(tfidf_vector, valid_vectors).flatten()\n",
    "\n",
    "        # Find the best match\n",
    "        best_match_local_idx = similarities.argmax()\n",
    "        best_match_idx = valid_idx[best_match_local_idx]\n",
    "\n",
    "        if similarities[best_match_local_idx] > 0:\n",
    "            df_filled.at[idx, target_column] = df.at[best_match_idx, target_column]\n",
    "        else:\n",
    "            df_filled.at[idx, target_column] = f\"{target_column} unknown\"\n",
    "\n",
    "    return df_filled\n",
    "\n",
    "# Columns to use for similarity\n",
    "text_cols = ['Nom', 'Forme', 'Dosage']\n",
    "\n",
    "# Smart imputation without memory explosion\n",
    "df = smart_fill_low_memory(df, 'DCI', text_cols)\n",
    "df = smart_fill_low_memory(df, 'Classe', text_cols)\n",
    "df = smart_fill_low_memory(df, 'Indications', text_cols)\n",
    "\n",
    "print(\"\\nAfter smart filling (low-memory mode):\")\n",
    "display(df[['Nom', 'DCI', 'Classe', 'Indications']].sample(5))\n"
   ]
  },
  {
   "cell_type": "code",
   "execution_count": null,
   "metadata": {},
   "outputs": [],
   "source": [
    "\n",
    "print(\"\\nSample of engineered data:\")\n",
    "display(df[['Nom', 'DCI', 'Classe', 'Indications', 'Dose_mg', 'Admin_Route', 'Biologic']].head())"
   ]
  },
  {
   "cell_type": "code",
   "execution_count": null,
   "metadata": {},
   "outputs": [],
   "source": [
    "# ----------------------------\n",
    "# SECTION 3bis: Enhanced Visualization\n",
    "# ----------------------------\n",
    "\n",
    "import matplotlib.pyplot as plt\n",
    "import seaborn as sns\n",
    "\n",
    "print(\"\\nVisualizing features...\")\n",
    "\n",
    "# --- 1. Distribution of doses ---\n",
    "plt.figure(figsize=(10, 6))\n",
    "sns.histplot(df['Dose_mg'].dropna(), bins=30, kde=True, color=\"royalblue\")\n",
    "plt.title('Distribution of doses (mg)', fontsize=16)\n",
    "plt.xlabel('Dose (mg)', fontsize=14)\n",
    "plt.ylabel('Number of drugs', fontsize=14)\n",
    "plt.grid(True)\n",
    "plt.show()\n",
    "\n",
    "# --- 2. Distribution of administration routes ---\n",
    "plt.figure(figsize=(8, 6))\n",
    "admin_order = df['Admin_Route'].value_counts().index\n",
    "sns.countplot(data=df, y='Admin_Route', order=admin_order, palette='Set2')\n",
    "plt.title('Distribution of administration routes', fontsize=16)\n",
    "plt.xlabel('Number of drugs', fontsize=14)\n",
    "plt.ylabel('Administration route', fontsize=14)\n",
    "plt.grid(axis='x')\n",
    "plt.show()\n",
    "\n",
    "# --- 3. Top therapeutic classes ---\n",
    "plt.figure(figsize=(12, 6))\n",
    "top_classes = df['Classe'].value_counts().head(10)\n",
    "sns.barplot(x=top_classes.values, y=top_classes.index, palette=\"coolwarm\")\n",
    "plt.title('Top 10 therapeutic classes', fontsize=16)\n",
    "plt.xlabel('Number of drugs', fontsize=14)\n",
    "plt.ylabel('Therapeutic class', fontsize=14)\n",
    "plt.grid(True)\n",
    "plt.show()\n"
   ]
  },
  {
   "cell_type": "code",
   "execution_count": null,
   "metadata": {},
   "outputs": [],
   "source": [
    "print(\"\\nGenerating embeddings with Sentence-BERT...\")\n",
    "\n",
    "!pip install -q sentence-transformers\n",
    "\n",
    "from sentence_transformers import SentenceTransformer\n",
    "\n",
    "class DrugEncoder:\n",
    "    def __init__(self):\n",
    "        self.model = SentenceTransformer('all-MiniLM-L6-v2')\n",
    "\n",
    "    def encode(self, texts):\n",
    "        return self.model.encode(texts, convert_to_numpy=True, normalize_embeddings=True)\n",
    "\n",
    "# Preparing the drug profiles\n",
    "# We build a text profile by combining all the useful columns\n",
    "\n",
    "# Replace NaN with empty strings to avoid concatenation problems\n",
    "df['Drug_Profile'] = (\n",
    "    df['DCI'].fillna('') + \" \" +\n",
    "    df['Classe'].fillna('') + \" \" +\n",
    "    df['Sous Classe'].fillna('') + \" \" +\n",
    "    df['Indications'].fillna('') + \" \" +\n",
    "    df['Dosage'].fillna('') + \" \" +\n",
    "    df['Biologic'].fillna('').astype(str) + \" \" +\n",
    "    df['G/P/B'].fillna('') + \" \" +\n",
    "    df['VEIC'].fillna('') + \" \" +\n",
    "    df['Forme'].fillna('')\n",
    ")\n",
    "\n",
    "# Encoding the drug profiles\n",
    "encoder = DrugEncoder()\n",
    "embeddings = encoder.encode(df['Drug_Profile'].tolist())\n",
    "\n",
    "print(f\"Embeddings generated with shape: {embeddings.shape}\")\n",
    "\n"
   ]
  },
  {
   "cell_type": "code",
   "execution_count": null,
   "metadata": {},
   "outputs": [],
   "source": [
    "plt.figure(figsize=(8, 4))\n",
    "plt.hist(embeddings[:, 0], bins=50, alpha=0.7)\n",
    "plt.title('Embedding Value Distribution')\n",
    "plt.xlabel('Embedding Dimension 1 Values')\n",
    "plt.ylabel('Frequency')\n",
    "plt.show()"
   ]
  },
  {
   "cell_type": "code",
   "execution_count": null,
   "metadata": {},
   "outputs": [],
   "source": [
    "# ----------------------------\n",
    "# SECTION 9: Clustering Visualization with UMAP\n",
    "# ----------------------------\n",
    "\n",
    "print(\"\\nVisualisation des embeddings avec UMAP...\")\n",
    "\n",
    "import umap\n",
    "import matplotlib.pyplot as plt\n",
    "\n",
    "def plot_umap(embeddings, labels, title=\"UMAP of Drug Embeddings\"):\n",
    "    reducer = umap.UMAP(n_neighbors=15, min_dist=0.1, random_state=42)\n",
    "    embeddings_2d = reducer.fit_transform(embeddings)\n",
    "\n",
    "    plt.figure(figsize=(12, 8))\n",
    "    scatter = plt.scatter(\n",
    "        embeddings_2d[:, 0], embeddings_2d[:, 1],\n",
    "        c=labels, cmap='Spectral', s=10, alpha=0.8\n",
    "    )\n",
    "    plt.colorbar(scatter)\n",
    "    plt.title(title, fontsize=16)\n",
    "    plt.xlabel('UMAP-1', fontsize=14)\n",
    "    plt.ylabel('UMAP-2', fontsize=14)\n",
    "    plt.grid(True)\n",
    "    plt.show()\n",
    "\n",
    "# Exemple: colorier selon la \"Classe thérapeutique\"\n",
    "# Attention: pour avoir des couleurs il faut encoder les classes en nombres\n",
    "from sklearn.preprocessing import LabelEncoder\n",
    "\n",
    "le = LabelEncoder()\n",
    "classe_labels = le.fit_transform(df['Classe'].astype(str))\n",
    "\n",
    "plot_umap(embeddings, classe_labels, title=\"UMAP - Drug Embeddings colored by Classe\")\n"
   ]
  },
  {
   "cell_type": "markdown",
   "metadata": {
    "id": "O17DnRuLiExg"
   },
   "source": [
    "# ----------------------------\n",
    "# SECTION 5: Drug Recommendation System\n",
    "# ----------------------------"
   ]
  },
  {
   "cell_type": "code",
   "execution_count": null,
   "metadata": {},
   "outputs": [],
   "source": [
    "def generate_clinical_comment(ref_row, alt_row):\n",
    "    \"\"\"\n",
    "    Generates a clinical comment based on the comparison of form and dose\n",
    "    between the reference drug and the proposed alternative.\n",
    "\n",
    "    Args:\n",
    "        ref_row (pd.Series): Reference row (base drug)\n",
    "        alt_row (pd.Series): Alternative row\n",
    "\n",
    "    Returns:\n",
    "        str: Clinical comment\n",
    "    \"\"\"\n",
    "    comments = []\n",
    "\n",
    "    # Form Check\n",
    "    if ref_row['Forme'] != alt_row['Forme']:\n",
    "        comments.append(f\"⚠️ Different form: {alt_row['Forme']} vs {ref_row['Forme']}.\")\n",
    "\n",
    "    else:\n",
    "        comments.append(f\"✅ Same form: {alt_row['Forme']}.\")\n",
    "\n",
    "    # Dose Check\n",
    "    if pd.isna(ref_row['Dose_mg']) or pd.isna(alt_row['Dose_mg']):\n",
    "        comments.append(\"ℹ️ Missing dose for comparison.\")\n",
    "    else:\n",
    "        dose_ratio = alt_row['Dose_mg'] / ref_row['Dose_mg']\n",
    "        if 0.8 <= dose_ratio <= 1.2:\n",
    "            comments.append(\"✅ Equivalent or close dose.\")\n",
    "        elif dose_ratio < 0.8:\n",
    "            comments.append(f\"⚠️ Lower dose ({alt_row['Dose_mg']} mg vs {ref_row['Dose_mg']} mg), adjustment needed.\")\n",
    "        else:\n",
    "            comments.append(f\"⚠️ Higher dose ({alt_row['Dose_mg']} mg vs {ref_row['Dose_mg']} mg), adjustment needed.\")\n",
    "\n",
    "    # Final result\n",
    "    return \" \".join(comments)\n",
    "\n"
   ]
  },
  {
   "cell_type": "code",
   "execution_count": null,
   "metadata": {},
   "outputs": [],
   "source": [
    "# ---------------------------------------------------------------\n",
    "# UPDATE TO THE RECOMMENDER CLASS\n",
    "# ---------------------------------------------------------------\n",
    "\n",
    "print(\"\\nUpdating the recommendation engine...\")\n",
    "\n",
    "from sentence_transformers.util import cos_sim\n",
    "\n",
    "class DrugRecommender:\n",
    "    def __init__(self, embeddings, df):\n",
    "        self.embeddings = embeddings\n",
    "        self.df = df\n",
    "        self.drug_names = df['Nom']\n",
    "\n",
    "    def recommend(self, drug_name, top_n=5):\n",
    "        # Normalize the input drug name\n",
    "        drug_name_normalized = drug_name.strip().upper()\n",
    "\n",
    "        matches = self.drug_names.str.strip().str.upper() == drug_name_normalized\n",
    "        idx = np.where(matches)[0]\n",
    "\n",
    "        if idx.size == 0:\n",
    "            print(f\"Warning: '{drug_name}' not found in the dataset.\")\n",
    "            return pd.DataFrame()\n",
    "\n",
    "        idx = idx[0]  # first matching index\n",
    "\n",
    "        similarities = cos_sim([self.embeddings[idx]], self.embeddings)[0].cpu().numpy()\n",
    "\n",
    "        valid_indices = np.argsort(-similarities)[1:top_n+1]\n",
    "        results = self.df.iloc[valid_indices].copy()\n",
    "        results['Similarity'] = similarities[valid_indices]\n",
    "\n",
    "        # Generate the clinical comment\n",
    "        ref_row = self.df.iloc[idx]\n",
    "        results['Clinical Comment'] = results.apply(lambda row: generate_clinical_comment(ref_row, row), axis=1)\n",
    "\n",
    "        return results[['Nom', 'DCI', 'Classe', 'Dose_mg', 'Indications', 'Similarity', 'Clinical Comment']]\n"
   ]
  },
  {
   "cell_type": "code",
   "execution_count": null,
   "metadata": {},
   "outputs": [],
   "source": [
    "recommender = DrugRecommender(embeddings, df)\n",
    "sample_recommendations = recommender.recommend(\"ABEVMY\", top_n=5)\n",
    "\n",
    "if not sample_recommendations.empty:\n",
    "    print(\"\\nSample recommendations:\")\n",
    "    display(sample_recommendations)\n"
   ]
  },
  {
   "cell_type": "markdown",
   "metadata": {
    "id": "6sduFvHGiKCe"
   },
   "source": [
    "# ----------------------------\n",
    "# SECTION 6: Save the model\n",
    "# ----------------------------"
   ]
  },
  {
   "cell_type": "code",
   "execution_count": null,
   "metadata": {},
   "outputs": [],
   "source": [
    "print(\"\\nSaving the recommendation model...\")\n",
    "joblib.dump(recommender, 'drug_recommender.pkl')\n",
    "print(\"Model saved as 'drug_recommender.pkl'\")"
   ]
  }
 ],
 "metadata": {
  "language_info": {
   "name": "python"
  }
 },
 "nbformat": 4,
 "nbformat_minor": 0
}
